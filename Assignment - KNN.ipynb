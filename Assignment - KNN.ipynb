{
 "cells": [
  {
   "cell_type": "markdown",
   "id": "135f8bb1",
   "metadata": {},
   "source": [
    "# KNN Regressor:"
   ]
  },
  {
   "cell_type": "code",
   "execution_count": 1,
   "id": "42f68386",
   "metadata": {},
   "outputs": [],
   "source": [
    "import pandas as pd"
   ]
  },
  {
   "cell_type": "code",
   "execution_count": 2,
   "id": "b3164364",
   "metadata": {},
   "outputs": [],
   "source": [
    "df = pd.read_csv('weight-height.csv')"
   ]
  },
  {
   "cell_type": "code",
   "execution_count": 3,
   "id": "e30e27e9",
   "metadata": {},
   "outputs": [
    {
     "data": {
      "text/html": [
       "<div>\n",
       "<style scoped>\n",
       "    .dataframe tbody tr th:only-of-type {\n",
       "        vertical-align: middle;\n",
       "    }\n",
       "\n",
       "    .dataframe tbody tr th {\n",
       "        vertical-align: top;\n",
       "    }\n",
       "\n",
       "    .dataframe thead th {\n",
       "        text-align: right;\n",
       "    }\n",
       "</style>\n",
       "<table border=\"1\" class=\"dataframe\">\n",
       "  <thead>\n",
       "    <tr style=\"text-align: right;\">\n",
       "      <th></th>\n",
       "      <th>Gender</th>\n",
       "      <th>Height</th>\n",
       "      <th>Weight</th>\n",
       "    </tr>\n",
       "  </thead>\n",
       "  <tbody>\n",
       "    <tr>\n",
       "      <th>0</th>\n",
       "      <td>Male</td>\n",
       "      <td>73.847017</td>\n",
       "      <td>241.893563</td>\n",
       "    </tr>\n",
       "    <tr>\n",
       "      <th>1</th>\n",
       "      <td>Male</td>\n",
       "      <td>68.781904</td>\n",
       "      <td>162.310473</td>\n",
       "    </tr>\n",
       "    <tr>\n",
       "      <th>2</th>\n",
       "      <td>Male</td>\n",
       "      <td>74.110105</td>\n",
       "      <td>212.740856</td>\n",
       "    </tr>\n",
       "    <tr>\n",
       "      <th>3</th>\n",
       "      <td>Male</td>\n",
       "      <td>71.730978</td>\n",
       "      <td>220.042470</td>\n",
       "    </tr>\n",
       "    <tr>\n",
       "      <th>4</th>\n",
       "      <td>Male</td>\n",
       "      <td>69.881796</td>\n",
       "      <td>206.349801</td>\n",
       "    </tr>\n",
       "  </tbody>\n",
       "</table>\n",
       "</div>"
      ],
      "text/plain": [
       "  Gender     Height      Weight\n",
       "0   Male  73.847017  241.893563\n",
       "1   Male  68.781904  162.310473\n",
       "2   Male  74.110105  212.740856\n",
       "3   Male  71.730978  220.042470\n",
       "4   Male  69.881796  206.349801"
      ]
     },
     "execution_count": 3,
     "metadata": {},
     "output_type": "execute_result"
    }
   ],
   "source": [
    "df.head()"
   ]
  },
  {
   "cell_type": "code",
   "execution_count": 4,
   "id": "66b770c1",
   "metadata": {},
   "outputs": [],
   "source": [
    "from sklearn.preprocessing import LabelEncoder"
   ]
  },
  {
   "cell_type": "code",
   "execution_count": 8,
   "id": "c6ed619d",
   "metadata": {},
   "outputs": [],
   "source": [
    "label = LabelEncoder()"
   ]
  },
  {
   "cell_type": "code",
   "execution_count": 9,
   "id": "5cbfca10",
   "metadata": {},
   "outputs": [],
   "source": [
    "df.Gender = label.fit_transform(df['Gender'])"
   ]
  },
  {
   "cell_type": "code",
   "execution_count": 10,
   "id": "3bf1438d",
   "metadata": {},
   "outputs": [
    {
     "data": {
      "text/html": [
       "<div>\n",
       "<style scoped>\n",
       "    .dataframe tbody tr th:only-of-type {\n",
       "        vertical-align: middle;\n",
       "    }\n",
       "\n",
       "    .dataframe tbody tr th {\n",
       "        vertical-align: top;\n",
       "    }\n",
       "\n",
       "    .dataframe thead th {\n",
       "        text-align: right;\n",
       "    }\n",
       "</style>\n",
       "<table border=\"1\" class=\"dataframe\">\n",
       "  <thead>\n",
       "    <tr style=\"text-align: right;\">\n",
       "      <th></th>\n",
       "      <th>Gender</th>\n",
       "      <th>Height</th>\n",
       "      <th>Weight</th>\n",
       "    </tr>\n",
       "  </thead>\n",
       "  <tbody>\n",
       "    <tr>\n",
       "      <th>0</th>\n",
       "      <td>1</td>\n",
       "      <td>73.847017</td>\n",
       "      <td>241.893563</td>\n",
       "    </tr>\n",
       "    <tr>\n",
       "      <th>1</th>\n",
       "      <td>1</td>\n",
       "      <td>68.781904</td>\n",
       "      <td>162.310473</td>\n",
       "    </tr>\n",
       "    <tr>\n",
       "      <th>2</th>\n",
       "      <td>1</td>\n",
       "      <td>74.110105</td>\n",
       "      <td>212.740856</td>\n",
       "    </tr>\n",
       "    <tr>\n",
       "      <th>3</th>\n",
       "      <td>1</td>\n",
       "      <td>71.730978</td>\n",
       "      <td>220.042470</td>\n",
       "    </tr>\n",
       "    <tr>\n",
       "      <th>4</th>\n",
       "      <td>1</td>\n",
       "      <td>69.881796</td>\n",
       "      <td>206.349801</td>\n",
       "    </tr>\n",
       "  </tbody>\n",
       "</table>\n",
       "</div>"
      ],
      "text/plain": [
       "   Gender     Height      Weight\n",
       "0       1  73.847017  241.893563\n",
       "1       1  68.781904  162.310473\n",
       "2       1  74.110105  212.740856\n",
       "3       1  71.730978  220.042470\n",
       "4       1  69.881796  206.349801"
      ]
     },
     "execution_count": 10,
     "metadata": {},
     "output_type": "execute_result"
    }
   ],
   "source": [
    "df.head()"
   ]
  },
  {
   "cell_type": "code",
   "execution_count": 11,
   "id": "4077c1f8",
   "metadata": {},
   "outputs": [],
   "source": [
    "x = df.drop('Weight', axis = 1)"
   ]
  },
  {
   "cell_type": "code",
   "execution_count": 12,
   "id": "2613ec15",
   "metadata": {},
   "outputs": [],
   "source": [
    "y = df['Weight']"
   ]
  },
  {
   "cell_type": "code",
   "execution_count": 14,
   "id": "41d897a3",
   "metadata": {},
   "outputs": [],
   "source": [
    "# Split train and test data\n",
    "from sklearn.model_selection import train_test_split"
   ]
  },
  {
   "cell_type": "code",
   "execution_count": 15,
   "id": "44052748",
   "metadata": {},
   "outputs": [],
   "source": [
    "xtrain, xtest, ytrain, ytest = train_test_split(x, y, train_size = .70 )"
   ]
  },
  {
   "cell_type": "code",
   "execution_count": 21,
   "id": "490e2d78",
   "metadata": {},
   "outputs": [],
   "source": [
    "from sklearn.neighbors import KNeighborsRegressor"
   ]
  },
  {
   "cell_type": "code",
   "execution_count": 22,
   "id": "90c85f74",
   "metadata": {},
   "outputs": [],
   "source": [
    "knn_reg = KNeighborsRegressor()"
   ]
  },
  {
   "cell_type": "code",
   "execution_count": 24,
   "id": "c7641afb",
   "metadata": {},
   "outputs": [
    {
     "data": {
      "text/plain": [
       "KNeighborsRegressor()"
      ]
     },
     "execution_count": 24,
     "metadata": {},
     "output_type": "execute_result"
    }
   ],
   "source": [
    "knn_reg.fit(xtrain,ytrain)"
   ]
  },
  {
   "cell_type": "code",
   "execution_count": 25,
   "id": "e50b8de1",
   "metadata": {},
   "outputs": [
    {
     "data": {
      "text/plain": [
       "0.8815882765355548"
      ]
     },
     "execution_count": 25,
     "metadata": {},
     "output_type": "execute_result"
    }
   ],
   "source": [
    "knn_reg.score(xtest, ytest)"
   ]
  },
  {
   "cell_type": "code",
   "execution_count": 26,
   "id": "107e512f",
   "metadata": {},
   "outputs": [],
   "source": [
    "pred = knn_reg.predict(xtest)"
   ]
  },
  {
   "cell_type": "code",
   "execution_count": 27,
   "id": "cb7d3b22",
   "metadata": {},
   "outputs": [
    {
     "data": {
      "text/plain": [
       "array([121.58417338, 189.03042412, 125.37398736, ..., 207.30655146,\n",
       "       166.07463776, 197.59825024])"
      ]
     },
     "execution_count": 27,
     "metadata": {},
     "output_type": "execute_result"
    }
   ],
   "source": [
    "pred"
   ]
  },
  {
   "cell_type": "markdown",
   "id": "e7b9ad96",
   "metadata": {},
   "source": [
    "# Mean squared error"
   ]
  },
  {
   "cell_type": "code",
   "execution_count": 28,
   "id": "34087403",
   "metadata": {},
   "outputs": [],
   "source": [
    "from sklearn.metrics import mean_squared_error"
   ]
  },
  {
   "cell_type": "code",
   "execution_count": 29,
   "id": "67437166",
   "metadata": {},
   "outputs": [],
   "source": [
    "mse = mean_squared_error(ytest, pred)"
   ]
  },
  {
   "cell_type": "code",
   "execution_count": 30,
   "id": "5f4740dd",
   "metadata": {},
   "outputs": [
    {
     "data": {
      "text/plain": [
       "123.8429873634381"
      ]
     },
     "execution_count": 30,
     "metadata": {},
     "output_type": "execute_result"
    }
   ],
   "source": [
    "mse"
   ]
  },
  {
   "cell_type": "code",
   "execution_count": 31,
   "id": "b25d7164",
   "metadata": {},
   "outputs": [],
   "source": [
    "import math"
   ]
  },
  {
   "cell_type": "code",
   "execution_count": 32,
   "id": "0a776971",
   "metadata": {},
   "outputs": [],
   "source": [
    "rmse = math.sqrt(mse)"
   ]
  },
  {
   "cell_type": "code",
   "execution_count": 33,
   "id": "b1c0cb13",
   "metadata": {},
   "outputs": [
    {
     "data": {
      "text/plain": [
       "11.128476416987102"
      ]
     },
     "execution_count": 33,
     "metadata": {},
     "output_type": "execute_result"
    }
   ],
   "source": [
    "rmse"
   ]
  },
  {
   "cell_type": "markdown",
   "id": "aabf23ab",
   "metadata": {},
   "source": [
    "# Linear Regression"
   ]
  },
  {
   "cell_type": "code",
   "execution_count": 34,
   "id": "d2756654",
   "metadata": {},
   "outputs": [],
   "source": [
    "# Linear Regression\n",
    "from sklearn.linear_model import LinearRegression"
   ]
  },
  {
   "cell_type": "code",
   "execution_count": 35,
   "id": "99c0ab05",
   "metadata": {},
   "outputs": [],
   "source": [
    "reg = LinearRegression()"
   ]
  },
  {
   "cell_type": "code",
   "execution_count": 36,
   "id": "269435fd",
   "metadata": {},
   "outputs": [
    {
     "data": {
      "text/plain": [
       "LinearRegression()"
      ]
     },
     "execution_count": 36,
     "metadata": {},
     "output_type": "execute_result"
    }
   ],
   "source": [
    "reg.fit(xtrain, ytrain)"
   ]
  },
  {
   "cell_type": "code",
   "execution_count": 37,
   "id": "345cd5f4",
   "metadata": {},
   "outputs": [
    {
     "data": {
      "text/plain": [
       "0.9002985844756839"
      ]
     },
     "execution_count": 37,
     "metadata": {},
     "output_type": "execute_result"
    }
   ],
   "source": [
    "reg.score(xtest, ytest)"
   ]
  },
  {
   "cell_type": "code",
   "execution_count": 38,
   "id": "96a442df",
   "metadata": {},
   "outputs": [],
   "source": [
    "pred2 = reg.predict(xtest)"
   ]
  },
  {
   "cell_type": "code",
   "execution_count": 39,
   "id": "df8db30f",
   "metadata": {},
   "outputs": [
    {
     "data": {
      "text/plain": [
       "array([126.07462366, 183.3020895 , 127.03562184, ..., 207.68491242,\n",
       "       163.24793079, 198.1086969 ])"
      ]
     },
     "execution_count": 39,
     "metadata": {},
     "output_type": "execute_result"
    }
   ],
   "source": [
    "pred2"
   ]
  },
  {
   "cell_type": "code",
   "execution_count": 40,
   "id": "5f3dfed0",
   "metadata": {},
   "outputs": [],
   "source": [
    "mse2 = mean_squared_error(ytest, pred2)"
   ]
  },
  {
   "cell_type": "code",
   "execution_count": 41,
   "id": "2489e06b",
   "metadata": {},
   "outputs": [
    {
     "data": {
      "text/plain": [
       "104.27448213438277"
      ]
     },
     "execution_count": 41,
     "metadata": {},
     "output_type": "execute_result"
    }
   ],
   "source": [
    "mse2"
   ]
  },
  {
   "cell_type": "code",
   "execution_count": 42,
   "id": "678ddcd5",
   "metadata": {},
   "outputs": [],
   "source": [
    "rmse2 = math.sqrt(mse2)"
   ]
  },
  {
   "cell_type": "code",
   "execution_count": 43,
   "id": "d2baf45e",
   "metadata": {},
   "outputs": [
    {
     "data": {
      "text/plain": [
       "10.211487753230807"
      ]
     },
     "execution_count": 43,
     "metadata": {},
     "output_type": "execute_result"
    }
   ],
   "source": [
    "rmse2"
   ]
  },
  {
   "cell_type": "markdown",
   "id": "d2097c5a",
   "metadata": {},
   "source": [
    "# Hyper Parameter Optimization"
   ]
  },
  {
   "cell_type": "markdown",
   "id": "df14b21a",
   "metadata": {},
   "source": [
    "# Randomized Search CV"
   ]
  },
  {
   "cell_type": "code",
   "execution_count": 44,
   "id": "c1d442b1",
   "metadata": {},
   "outputs": [],
   "source": [
    "import numpy as np\n",
    "from sklearn.model_selection import RandomizedSearchCV"
   ]
  },
  {
   "cell_type": "code",
   "execution_count": 45,
   "id": "27aceca7",
   "metadata": {},
   "outputs": [],
   "source": [
    "n_neighbors = np.random.randint(1, 200, 20)\n",
    "\n",
    "# Create ids\n",
    "grids = {'n_neighbors': n_neighbors\n",
    "        }"
   ]
  },
  {
   "cell_type": "code",
   "execution_count": 46,
   "id": "9b6138e5",
   "metadata": {},
   "outputs": [],
   "source": [
    "knn_reg2 = KNeighborsRegressor()"
   ]
  },
  {
   "cell_type": "code",
   "execution_count": 47,
   "id": "a94c5c77",
   "metadata": {},
   "outputs": [],
   "source": [
    "rmcv = RandomizedSearchCV(knn_reg2, grids, n_iter=200, cv = 5)"
   ]
  },
  {
   "cell_type": "code",
   "execution_count": 48,
   "id": "bffdbdb1",
   "metadata": {},
   "outputs": [
    {
     "name": "stderr",
     "output_type": "stream",
     "text": [
      "D:\\ProgramData\\Anaconda3\\lib\\site-packages\\sklearn\\model_selection\\_search.py:285: UserWarning: The total space of parameters 20 is smaller than n_iter=200. Running 20 iterations. For exhaustive searches, use GridSearchCV.\n",
      "  warnings.warn(\n"
     ]
    },
    {
     "data": {
      "text/plain": [
       "RandomizedSearchCV(cv=5, estimator=KNeighborsRegressor(), n_iter=200,\n",
       "                   param_distributions={'n_neighbors': array([142, 127,  79,  94, 192,  50,  44, 146,  83, 135, 167,  22,  71,\n",
       "        74,  64, 190,  18, 102,  95, 182])})"
      ]
     },
     "execution_count": 48,
     "metadata": {},
     "output_type": "execute_result"
    }
   ],
   "source": [
    "rmcv.fit(xtrain, ytrain)"
   ]
  },
  {
   "cell_type": "code",
   "execution_count": 49,
   "id": "76727c0d",
   "metadata": {},
   "outputs": [
    {
     "data": {
      "text/plain": [
       "{'mean_fit_time': array([0.00599613, 0.00659604, 0.00599651, 0.00599656, 0.00579667,\n",
       "        0.00619721, 0.00619764, 0.00619707, 0.00639648, 0.00599689,\n",
       "        0.00599461, 0.00599756, 0.00599732, 0.00579529, 0.00559573,\n",
       "        0.00619664, 0.00599766, 0.00559721, 0.00619683, 0.00639997]),\n",
       " 'std_fit_time': array([1.02934995e-06, 1.02065581e-03, 6.32032776e-04, 1.16800773e-07,\n",
       "        3.99828426e-04, 3.99708787e-04, 3.99732831e-04, 4.00018934e-04,\n",
       "        4.90115616e-04, 4.62310777e-07, 6.27972187e-04, 5.13569337e-07,\n",
       "        4.15696997e-07, 4.00091962e-04, 4.89531937e-04, 3.99757153e-04,\n",
       "        3.01578299e-07, 4.89181163e-04, 3.99303522e-04, 4.93429138e-04]),\n",
       " 'mean_score_time': array([0.02679348, 0.02618995, 0.01619644, 0.01879616, 0.03439298,\n",
       "        0.01159663, 0.01059704, 0.02798872, 0.01659651, 0.02559528,\n",
       "        0.03019409, 0.00699787, 0.01459627, 0.01459908, 0.01339879,\n",
       "        0.03379006, 0.00679793, 0.02019477, 0.01879563, 0.03258734]),\n",
       " 'std_score_time': array([7.48201218e-04, 2.98752095e-03, 3.99732604e-04, 7.47423611e-04,\n",
       "        4.87554408e-04, 4.90135077e-04, 4.89823515e-04, 1.55038361e-03,\n",
       "        7.99811211e-04, 4.86086840e-04, 3.98411054e-04, 3.81469727e-07,\n",
       "        4.89726257e-04, 4.89395401e-04, 4.89765260e-04, 3.99923623e-04,\n",
       "        3.99899522e-04, 3.99708872e-04, 4.00019218e-04, 7.94856827e-04]),\n",
       " 'param_n_neighbors': masked_array(data=[142, 127, 79, 94, 192, 50, 44, 146, 83, 135, 167, 22,\n",
       "                    71, 74, 64, 190, 18, 102, 95, 182],\n",
       "              mask=[False, False, False, False, False, False, False, False,\n",
       "                    False, False, False, False, False, False, False, False,\n",
       "                    False, False, False, False],\n",
       "        fill_value='?',\n",
       "             dtype=object),\n",
       " 'params': [{'n_neighbors': 142},\n",
       "  {'n_neighbors': 127},\n",
       "  {'n_neighbors': 79},\n",
       "  {'n_neighbors': 94},\n",
       "  {'n_neighbors': 192},\n",
       "  {'n_neighbors': 50},\n",
       "  {'n_neighbors': 44},\n",
       "  {'n_neighbors': 146},\n",
       "  {'n_neighbors': 83},\n",
       "  {'n_neighbors': 135},\n",
       "  {'n_neighbors': 167},\n",
       "  {'n_neighbors': 22},\n",
       "  {'n_neighbors': 71},\n",
       "  {'n_neighbors': 74},\n",
       "  {'n_neighbors': 64},\n",
       "  {'n_neighbors': 190},\n",
       "  {'n_neighbors': 18},\n",
       "  {'n_neighbors': 102},\n",
       "  {'n_neighbors': 95},\n",
       "  {'n_neighbors': 182}],\n",
       " 'split0_test_score': array([0.89486272, 0.89545961, 0.8977038 , 0.89730487, 0.89220147,\n",
       "        0.89790668, 0.89788006, 0.89460278, 0.89766899, 0.89501034,\n",
       "        0.89356596, 0.89649966, 0.89840976, 0.89825053, 0.89838266,\n",
       "        0.89230548, 0.89556029, 0.89661989, 0.8972063 , 0.89280156]),\n",
       " 'split1_test_score': array([0.89685902, 0.89709658, 0.89839544, 0.89801167, 0.89432798,\n",
       "        0.89856638, 0.89865832, 0.89675844, 0.8981602 , 0.89703167,\n",
       "        0.89573688, 0.89668567, 0.89825558, 0.89837816, 0.89835296,\n",
       "        0.89438424, 0.89555339, 0.89772628, 0.89800925, 0.89487319]),\n",
       " 'split2_test_score': array([0.88421305, 0.88478849, 0.88698822, 0.88615197, 0.88143568,\n",
       "        0.88690518, 0.88703077, 0.88398108, 0.88680037, 0.88442565,\n",
       "        0.88300545, 0.88588132, 0.88718797, 0.88713462, 0.88737234,\n",
       "        0.88149978, 0.88541016, 0.88556016, 0.88609498, 0.88205363]),\n",
       " 'split3_test_score': array([0.89333036, 0.89368928, 0.89519626, 0.8945839 , 0.89099186,\n",
       "        0.89589984, 0.89639862, 0.89310482, 0.89493882, 0.89356294,\n",
       "        0.89225322, 0.8936907 , 0.89575889, 0.89556315, 0.89577075,\n",
       "        0.89118344, 0.89270975, 0.89422242, 0.89448413, 0.89159603]),\n",
       " 'split4_test_score': array([0.89634591, 0.89715093, 0.89827919, 0.89844528, 0.89359898,\n",
       "        0.89869455, 0.89915769, 0.89612836, 0.89839203, 0.89661091,\n",
       "        0.89501425, 0.89777291, 0.89858834, 0.89840159, 0.89880192,\n",
       "        0.89370909, 0.89723181, 0.8983136 , 0.89836564, 0.89408476]),\n",
       " 'mean_test_score': array([0.89312221, 0.89363698, 0.89531258, 0.89489954, 0.89051119,\n",
       "        0.89559453, 0.89582509, 0.8929151 , 0.89519209, 0.8933283 ,\n",
       "        0.89191515, 0.89410605, 0.89564011, 0.89554561, 0.89573613,\n",
       "        0.8906164 , 0.89329308, 0.89448847, 0.89483206, 0.89108183]),\n",
       " 'std_test_score': array([0.00462173, 0.00460298, 0.00432045, 0.00457521, 0.00468092,\n",
       "        0.00445839, 0.004495  , 0.00464322, 0.00437423, 0.00461805,\n",
       "        0.00461372, 0.00432778, 0.00435101, 0.00434147, 0.00431753,\n",
       "        0.00469145, 0.00420104, 0.00467854, 0.00457549, 0.00465021]),\n",
       " 'rank_test_score': array([15, 12,  6,  8, 20,  4,  1, 16,  7, 13, 17, 11,  3,  5,  2, 19, 14,\n",
       "        10,  9, 18])}"
      ]
     },
     "execution_count": 49,
     "metadata": {},
     "output_type": "execute_result"
    }
   ],
   "source": [
    "rmcv.cv_results_"
   ]
  },
  {
   "cell_type": "code",
   "execution_count": 50,
   "id": "cfb5605b",
   "metadata": {},
   "outputs": [],
   "source": [
    "results = pd.DataFrame(rmcv.cv_results_)"
   ]
  },
  {
   "cell_type": "code",
   "execution_count": 51,
   "id": "e5f39ce0",
   "metadata": {},
   "outputs": [
    {
     "data": {
      "text/html": [
       "<div>\n",
       "<style scoped>\n",
       "    .dataframe tbody tr th:only-of-type {\n",
       "        vertical-align: middle;\n",
       "    }\n",
       "\n",
       "    .dataframe tbody tr th {\n",
       "        vertical-align: top;\n",
       "    }\n",
       "\n",
       "    .dataframe thead th {\n",
       "        text-align: right;\n",
       "    }\n",
       "</style>\n",
       "<table border=\"1\" class=\"dataframe\">\n",
       "  <thead>\n",
       "    <tr style=\"text-align: right;\">\n",
       "      <th></th>\n",
       "      <th>mean_fit_time</th>\n",
       "      <th>std_fit_time</th>\n",
       "      <th>mean_score_time</th>\n",
       "      <th>std_score_time</th>\n",
       "      <th>param_n_neighbors</th>\n",
       "      <th>params</th>\n",
       "      <th>split0_test_score</th>\n",
       "      <th>split1_test_score</th>\n",
       "      <th>split2_test_score</th>\n",
       "      <th>split3_test_score</th>\n",
       "      <th>split4_test_score</th>\n",
       "      <th>mean_test_score</th>\n",
       "      <th>std_test_score</th>\n",
       "      <th>rank_test_score</th>\n",
       "    </tr>\n",
       "  </thead>\n",
       "  <tbody>\n",
       "    <tr>\n",
       "      <th>0</th>\n",
       "      <td>0.005996</td>\n",
       "      <td>1.029350e-06</td>\n",
       "      <td>0.026793</td>\n",
       "      <td>7.482012e-04</td>\n",
       "      <td>142</td>\n",
       "      <td>{'n_neighbors': 142}</td>\n",
       "      <td>0.894863</td>\n",
       "      <td>0.896859</td>\n",
       "      <td>0.884213</td>\n",
       "      <td>0.893330</td>\n",
       "      <td>0.896346</td>\n",
       "      <td>0.893122</td>\n",
       "      <td>0.004622</td>\n",
       "      <td>15</td>\n",
       "    </tr>\n",
       "    <tr>\n",
       "      <th>1</th>\n",
       "      <td>0.006596</td>\n",
       "      <td>1.020656e-03</td>\n",
       "      <td>0.026190</td>\n",
       "      <td>2.987521e-03</td>\n",
       "      <td>127</td>\n",
       "      <td>{'n_neighbors': 127}</td>\n",
       "      <td>0.895460</td>\n",
       "      <td>0.897097</td>\n",
       "      <td>0.884788</td>\n",
       "      <td>0.893689</td>\n",
       "      <td>0.897151</td>\n",
       "      <td>0.893637</td>\n",
       "      <td>0.004603</td>\n",
       "      <td>12</td>\n",
       "    </tr>\n",
       "    <tr>\n",
       "      <th>2</th>\n",
       "      <td>0.005997</td>\n",
       "      <td>6.320328e-04</td>\n",
       "      <td>0.016196</td>\n",
       "      <td>3.997326e-04</td>\n",
       "      <td>79</td>\n",
       "      <td>{'n_neighbors': 79}</td>\n",
       "      <td>0.897704</td>\n",
       "      <td>0.898395</td>\n",
       "      <td>0.886988</td>\n",
       "      <td>0.895196</td>\n",
       "      <td>0.898279</td>\n",
       "      <td>0.895313</td>\n",
       "      <td>0.004320</td>\n",
       "      <td>6</td>\n",
       "    </tr>\n",
       "    <tr>\n",
       "      <th>3</th>\n",
       "      <td>0.005997</td>\n",
       "      <td>1.168008e-07</td>\n",
       "      <td>0.018796</td>\n",
       "      <td>7.474236e-04</td>\n",
       "      <td>94</td>\n",
       "      <td>{'n_neighbors': 94}</td>\n",
       "      <td>0.897305</td>\n",
       "      <td>0.898012</td>\n",
       "      <td>0.886152</td>\n",
       "      <td>0.894584</td>\n",
       "      <td>0.898445</td>\n",
       "      <td>0.894900</td>\n",
       "      <td>0.004575</td>\n",
       "      <td>8</td>\n",
       "    </tr>\n",
       "    <tr>\n",
       "      <th>4</th>\n",
       "      <td>0.005797</td>\n",
       "      <td>3.998284e-04</td>\n",
       "      <td>0.034393</td>\n",
       "      <td>4.875544e-04</td>\n",
       "      <td>192</td>\n",
       "      <td>{'n_neighbors': 192}</td>\n",
       "      <td>0.892201</td>\n",
       "      <td>0.894328</td>\n",
       "      <td>0.881436</td>\n",
       "      <td>0.890992</td>\n",
       "      <td>0.893599</td>\n",
       "      <td>0.890511</td>\n",
       "      <td>0.004681</td>\n",
       "      <td>20</td>\n",
       "    </tr>\n",
       "    <tr>\n",
       "      <th>5</th>\n",
       "      <td>0.006197</td>\n",
       "      <td>3.997088e-04</td>\n",
       "      <td>0.011597</td>\n",
       "      <td>4.901351e-04</td>\n",
       "      <td>50</td>\n",
       "      <td>{'n_neighbors': 50}</td>\n",
       "      <td>0.897907</td>\n",
       "      <td>0.898566</td>\n",
       "      <td>0.886905</td>\n",
       "      <td>0.895900</td>\n",
       "      <td>0.898695</td>\n",
       "      <td>0.895595</td>\n",
       "      <td>0.004458</td>\n",
       "      <td>4</td>\n",
       "    </tr>\n",
       "    <tr>\n",
       "      <th>6</th>\n",
       "      <td>0.006198</td>\n",
       "      <td>3.997328e-04</td>\n",
       "      <td>0.010597</td>\n",
       "      <td>4.898235e-04</td>\n",
       "      <td>44</td>\n",
       "      <td>{'n_neighbors': 44}</td>\n",
       "      <td>0.897880</td>\n",
       "      <td>0.898658</td>\n",
       "      <td>0.887031</td>\n",
       "      <td>0.896399</td>\n",
       "      <td>0.899158</td>\n",
       "      <td>0.895825</td>\n",
       "      <td>0.004495</td>\n",
       "      <td>1</td>\n",
       "    </tr>\n",
       "    <tr>\n",
       "      <th>7</th>\n",
       "      <td>0.006197</td>\n",
       "      <td>4.000189e-04</td>\n",
       "      <td>0.027989</td>\n",
       "      <td>1.550384e-03</td>\n",
       "      <td>146</td>\n",
       "      <td>{'n_neighbors': 146}</td>\n",
       "      <td>0.894603</td>\n",
       "      <td>0.896758</td>\n",
       "      <td>0.883981</td>\n",
       "      <td>0.893105</td>\n",
       "      <td>0.896128</td>\n",
       "      <td>0.892915</td>\n",
       "      <td>0.004643</td>\n",
       "      <td>16</td>\n",
       "    </tr>\n",
       "    <tr>\n",
       "      <th>8</th>\n",
       "      <td>0.006396</td>\n",
       "      <td>4.901156e-04</td>\n",
       "      <td>0.016597</td>\n",
       "      <td>7.998112e-04</td>\n",
       "      <td>83</td>\n",
       "      <td>{'n_neighbors': 83}</td>\n",
       "      <td>0.897669</td>\n",
       "      <td>0.898160</td>\n",
       "      <td>0.886800</td>\n",
       "      <td>0.894939</td>\n",
       "      <td>0.898392</td>\n",
       "      <td>0.895192</td>\n",
       "      <td>0.004374</td>\n",
       "      <td>7</td>\n",
       "    </tr>\n",
       "    <tr>\n",
       "      <th>9</th>\n",
       "      <td>0.005997</td>\n",
       "      <td>4.623108e-07</td>\n",
       "      <td>0.025595</td>\n",
       "      <td>4.860868e-04</td>\n",
       "      <td>135</td>\n",
       "      <td>{'n_neighbors': 135}</td>\n",
       "      <td>0.895010</td>\n",
       "      <td>0.897032</td>\n",
       "      <td>0.884426</td>\n",
       "      <td>0.893563</td>\n",
       "      <td>0.896611</td>\n",
       "      <td>0.893328</td>\n",
       "      <td>0.004618</td>\n",
       "      <td>13</td>\n",
       "    </tr>\n",
       "    <tr>\n",
       "      <th>10</th>\n",
       "      <td>0.005995</td>\n",
       "      <td>6.279722e-04</td>\n",
       "      <td>0.030194</td>\n",
       "      <td>3.984111e-04</td>\n",
       "      <td>167</td>\n",
       "      <td>{'n_neighbors': 167}</td>\n",
       "      <td>0.893566</td>\n",
       "      <td>0.895737</td>\n",
       "      <td>0.883005</td>\n",
       "      <td>0.892253</td>\n",
       "      <td>0.895014</td>\n",
       "      <td>0.891915</td>\n",
       "      <td>0.004614</td>\n",
       "      <td>17</td>\n",
       "    </tr>\n",
       "    <tr>\n",
       "      <th>11</th>\n",
       "      <td>0.005998</td>\n",
       "      <td>5.135693e-07</td>\n",
       "      <td>0.006998</td>\n",
       "      <td>3.814697e-07</td>\n",
       "      <td>22</td>\n",
       "      <td>{'n_neighbors': 22}</td>\n",
       "      <td>0.896500</td>\n",
       "      <td>0.896686</td>\n",
       "      <td>0.885881</td>\n",
       "      <td>0.893691</td>\n",
       "      <td>0.897773</td>\n",
       "      <td>0.894106</td>\n",
       "      <td>0.004328</td>\n",
       "      <td>11</td>\n",
       "    </tr>\n",
       "    <tr>\n",
       "      <th>12</th>\n",
       "      <td>0.005997</td>\n",
       "      <td>4.156970e-07</td>\n",
       "      <td>0.014596</td>\n",
       "      <td>4.897263e-04</td>\n",
       "      <td>71</td>\n",
       "      <td>{'n_neighbors': 71}</td>\n",
       "      <td>0.898410</td>\n",
       "      <td>0.898256</td>\n",
       "      <td>0.887188</td>\n",
       "      <td>0.895759</td>\n",
       "      <td>0.898588</td>\n",
       "      <td>0.895640</td>\n",
       "      <td>0.004351</td>\n",
       "      <td>3</td>\n",
       "    </tr>\n",
       "    <tr>\n",
       "      <th>13</th>\n",
       "      <td>0.005795</td>\n",
       "      <td>4.000920e-04</td>\n",
       "      <td>0.014599</td>\n",
       "      <td>4.893954e-04</td>\n",
       "      <td>74</td>\n",
       "      <td>{'n_neighbors': 74}</td>\n",
       "      <td>0.898251</td>\n",
       "      <td>0.898378</td>\n",
       "      <td>0.887135</td>\n",
       "      <td>0.895563</td>\n",
       "      <td>0.898402</td>\n",
       "      <td>0.895546</td>\n",
       "      <td>0.004341</td>\n",
       "      <td>5</td>\n",
       "    </tr>\n",
       "    <tr>\n",
       "      <th>14</th>\n",
       "      <td>0.005596</td>\n",
       "      <td>4.895319e-04</td>\n",
       "      <td>0.013399</td>\n",
       "      <td>4.897653e-04</td>\n",
       "      <td>64</td>\n",
       "      <td>{'n_neighbors': 64}</td>\n",
       "      <td>0.898383</td>\n",
       "      <td>0.898353</td>\n",
       "      <td>0.887372</td>\n",
       "      <td>0.895771</td>\n",
       "      <td>0.898802</td>\n",
       "      <td>0.895736</td>\n",
       "      <td>0.004318</td>\n",
       "      <td>2</td>\n",
       "    </tr>\n",
       "    <tr>\n",
       "      <th>15</th>\n",
       "      <td>0.006197</td>\n",
       "      <td>3.997572e-04</td>\n",
       "      <td>0.033790</td>\n",
       "      <td>3.999236e-04</td>\n",
       "      <td>190</td>\n",
       "      <td>{'n_neighbors': 190}</td>\n",
       "      <td>0.892305</td>\n",
       "      <td>0.894384</td>\n",
       "      <td>0.881500</td>\n",
       "      <td>0.891183</td>\n",
       "      <td>0.893709</td>\n",
       "      <td>0.890616</td>\n",
       "      <td>0.004691</td>\n",
       "      <td>19</td>\n",
       "    </tr>\n",
       "    <tr>\n",
       "      <th>16</th>\n",
       "      <td>0.005998</td>\n",
       "      <td>3.015783e-07</td>\n",
       "      <td>0.006798</td>\n",
       "      <td>3.998995e-04</td>\n",
       "      <td>18</td>\n",
       "      <td>{'n_neighbors': 18}</td>\n",
       "      <td>0.895560</td>\n",
       "      <td>0.895553</td>\n",
       "      <td>0.885410</td>\n",
       "      <td>0.892710</td>\n",
       "      <td>0.897232</td>\n",
       "      <td>0.893293</td>\n",
       "      <td>0.004201</td>\n",
       "      <td>14</td>\n",
       "    </tr>\n",
       "    <tr>\n",
       "      <th>17</th>\n",
       "      <td>0.005597</td>\n",
       "      <td>4.891812e-04</td>\n",
       "      <td>0.020195</td>\n",
       "      <td>3.997089e-04</td>\n",
       "      <td>102</td>\n",
       "      <td>{'n_neighbors': 102}</td>\n",
       "      <td>0.896620</td>\n",
       "      <td>0.897726</td>\n",
       "      <td>0.885560</td>\n",
       "      <td>0.894222</td>\n",
       "      <td>0.898314</td>\n",
       "      <td>0.894488</td>\n",
       "      <td>0.004679</td>\n",
       "      <td>10</td>\n",
       "    </tr>\n",
       "    <tr>\n",
       "      <th>18</th>\n",
       "      <td>0.006197</td>\n",
       "      <td>3.993035e-04</td>\n",
       "      <td>0.018796</td>\n",
       "      <td>4.000192e-04</td>\n",
       "      <td>95</td>\n",
       "      <td>{'n_neighbors': 95}</td>\n",
       "      <td>0.897206</td>\n",
       "      <td>0.898009</td>\n",
       "      <td>0.886095</td>\n",
       "      <td>0.894484</td>\n",
       "      <td>0.898366</td>\n",
       "      <td>0.894832</td>\n",
       "      <td>0.004575</td>\n",
       "      <td>9</td>\n",
       "    </tr>\n",
       "    <tr>\n",
       "      <th>19</th>\n",
       "      <td>0.006400</td>\n",
       "      <td>4.934291e-04</td>\n",
       "      <td>0.032587</td>\n",
       "      <td>7.948568e-04</td>\n",
       "      <td>182</td>\n",
       "      <td>{'n_neighbors': 182}</td>\n",
       "      <td>0.892802</td>\n",
       "      <td>0.894873</td>\n",
       "      <td>0.882054</td>\n",
       "      <td>0.891596</td>\n",
       "      <td>0.894085</td>\n",
       "      <td>0.891082</td>\n",
       "      <td>0.004650</td>\n",
       "      <td>18</td>\n",
       "    </tr>\n",
       "  </tbody>\n",
       "</table>\n",
       "</div>"
      ],
      "text/plain": [
       "    mean_fit_time  std_fit_time  mean_score_time  std_score_time  \\\n",
       "0        0.005996  1.029350e-06         0.026793    7.482012e-04   \n",
       "1        0.006596  1.020656e-03         0.026190    2.987521e-03   \n",
       "2        0.005997  6.320328e-04         0.016196    3.997326e-04   \n",
       "3        0.005997  1.168008e-07         0.018796    7.474236e-04   \n",
       "4        0.005797  3.998284e-04         0.034393    4.875544e-04   \n",
       "5        0.006197  3.997088e-04         0.011597    4.901351e-04   \n",
       "6        0.006198  3.997328e-04         0.010597    4.898235e-04   \n",
       "7        0.006197  4.000189e-04         0.027989    1.550384e-03   \n",
       "8        0.006396  4.901156e-04         0.016597    7.998112e-04   \n",
       "9        0.005997  4.623108e-07         0.025595    4.860868e-04   \n",
       "10       0.005995  6.279722e-04         0.030194    3.984111e-04   \n",
       "11       0.005998  5.135693e-07         0.006998    3.814697e-07   \n",
       "12       0.005997  4.156970e-07         0.014596    4.897263e-04   \n",
       "13       0.005795  4.000920e-04         0.014599    4.893954e-04   \n",
       "14       0.005596  4.895319e-04         0.013399    4.897653e-04   \n",
       "15       0.006197  3.997572e-04         0.033790    3.999236e-04   \n",
       "16       0.005998  3.015783e-07         0.006798    3.998995e-04   \n",
       "17       0.005597  4.891812e-04         0.020195    3.997089e-04   \n",
       "18       0.006197  3.993035e-04         0.018796    4.000192e-04   \n",
       "19       0.006400  4.934291e-04         0.032587    7.948568e-04   \n",
       "\n",
       "   param_n_neighbors                params  split0_test_score  \\\n",
       "0                142  {'n_neighbors': 142}           0.894863   \n",
       "1                127  {'n_neighbors': 127}           0.895460   \n",
       "2                 79   {'n_neighbors': 79}           0.897704   \n",
       "3                 94   {'n_neighbors': 94}           0.897305   \n",
       "4                192  {'n_neighbors': 192}           0.892201   \n",
       "5                 50   {'n_neighbors': 50}           0.897907   \n",
       "6                 44   {'n_neighbors': 44}           0.897880   \n",
       "7                146  {'n_neighbors': 146}           0.894603   \n",
       "8                 83   {'n_neighbors': 83}           0.897669   \n",
       "9                135  {'n_neighbors': 135}           0.895010   \n",
       "10               167  {'n_neighbors': 167}           0.893566   \n",
       "11                22   {'n_neighbors': 22}           0.896500   \n",
       "12                71   {'n_neighbors': 71}           0.898410   \n",
       "13                74   {'n_neighbors': 74}           0.898251   \n",
       "14                64   {'n_neighbors': 64}           0.898383   \n",
       "15               190  {'n_neighbors': 190}           0.892305   \n",
       "16                18   {'n_neighbors': 18}           0.895560   \n",
       "17               102  {'n_neighbors': 102}           0.896620   \n",
       "18                95   {'n_neighbors': 95}           0.897206   \n",
       "19               182  {'n_neighbors': 182}           0.892802   \n",
       "\n",
       "    split1_test_score  split2_test_score  split3_test_score  \\\n",
       "0            0.896859           0.884213           0.893330   \n",
       "1            0.897097           0.884788           0.893689   \n",
       "2            0.898395           0.886988           0.895196   \n",
       "3            0.898012           0.886152           0.894584   \n",
       "4            0.894328           0.881436           0.890992   \n",
       "5            0.898566           0.886905           0.895900   \n",
       "6            0.898658           0.887031           0.896399   \n",
       "7            0.896758           0.883981           0.893105   \n",
       "8            0.898160           0.886800           0.894939   \n",
       "9            0.897032           0.884426           0.893563   \n",
       "10           0.895737           0.883005           0.892253   \n",
       "11           0.896686           0.885881           0.893691   \n",
       "12           0.898256           0.887188           0.895759   \n",
       "13           0.898378           0.887135           0.895563   \n",
       "14           0.898353           0.887372           0.895771   \n",
       "15           0.894384           0.881500           0.891183   \n",
       "16           0.895553           0.885410           0.892710   \n",
       "17           0.897726           0.885560           0.894222   \n",
       "18           0.898009           0.886095           0.894484   \n",
       "19           0.894873           0.882054           0.891596   \n",
       "\n",
       "    split4_test_score  mean_test_score  std_test_score  rank_test_score  \n",
       "0            0.896346         0.893122        0.004622               15  \n",
       "1            0.897151         0.893637        0.004603               12  \n",
       "2            0.898279         0.895313        0.004320                6  \n",
       "3            0.898445         0.894900        0.004575                8  \n",
       "4            0.893599         0.890511        0.004681               20  \n",
       "5            0.898695         0.895595        0.004458                4  \n",
       "6            0.899158         0.895825        0.004495                1  \n",
       "7            0.896128         0.892915        0.004643               16  \n",
       "8            0.898392         0.895192        0.004374                7  \n",
       "9            0.896611         0.893328        0.004618               13  \n",
       "10           0.895014         0.891915        0.004614               17  \n",
       "11           0.897773         0.894106        0.004328               11  \n",
       "12           0.898588         0.895640        0.004351                3  \n",
       "13           0.898402         0.895546        0.004341                5  \n",
       "14           0.898802         0.895736        0.004318                2  \n",
       "15           0.893709         0.890616        0.004691               19  \n",
       "16           0.897232         0.893293        0.004201               14  \n",
       "17           0.898314         0.894488        0.004679               10  \n",
       "18           0.898366         0.894832        0.004575                9  \n",
       "19           0.894085         0.891082        0.004650               18  "
      ]
     },
     "execution_count": 51,
     "metadata": {},
     "output_type": "execute_result"
    }
   ],
   "source": [
    "results"
   ]
  },
  {
   "cell_type": "code",
   "execution_count": 52,
   "id": "18003c30",
   "metadata": {},
   "outputs": [
    {
     "data": {
      "text/plain": [
       "{'n_neighbors': 44}"
      ]
     },
     "execution_count": 52,
     "metadata": {},
     "output_type": "execute_result"
    }
   ],
   "source": [
    "rmcv.best_params_"
   ]
  },
  {
   "cell_type": "code",
   "execution_count": 53,
   "id": "55753557",
   "metadata": {},
   "outputs": [
    {
     "data": {
      "text/plain": [
       "KNeighborsRegressor(n_neighbors=44)"
      ]
     },
     "execution_count": 53,
     "metadata": {},
     "output_type": "execute_result"
    }
   ],
   "source": [
    "rmcv.best_estimator_"
   ]
  },
  {
   "cell_type": "code",
   "execution_count": 54,
   "id": "04943e31",
   "metadata": {},
   "outputs": [
    {
     "data": {
      "text/plain": [
       "0.8958250917560895"
      ]
     },
     "execution_count": 54,
     "metadata": {},
     "output_type": "execute_result"
    }
   ],
   "source": [
    "rmcv.best_score_"
   ]
  },
  {
   "cell_type": "code",
   "execution_count": 55,
   "id": "ad43d2be",
   "metadata": {},
   "outputs": [],
   "source": [
    "best = rmcv.best_estimator_"
   ]
  },
  {
   "cell_type": "code",
   "execution_count": 56,
   "id": "59bbe26e",
   "metadata": {},
   "outputs": [
    {
     "data": {
      "text/plain": [
       "0.8972539833172211"
      ]
     },
     "execution_count": 56,
     "metadata": {},
     "output_type": "execute_result"
    }
   ],
   "source": [
    "best.score(xtest, ytest)"
   ]
  },
  {
   "cell_type": "markdown",
   "id": "d1ed8ffb",
   "metadata": {},
   "source": [
    "# Use GridSearchCV"
   ]
  },
  {
   "cell_type": "code",
   "execution_count": 57,
   "id": "1879426d",
   "metadata": {},
   "outputs": [],
   "source": [
    "from sklearn.model_selection import GridSearchCV"
   ]
  },
  {
   "cell_type": "code",
   "execution_count": 58,
   "id": "38f2f381",
   "metadata": {},
   "outputs": [],
   "source": [
    "gscv = GridSearchCV(knn_reg2, grids, cv=3)"
   ]
  },
  {
   "cell_type": "code",
   "execution_count": 59,
   "id": "661cbfc2",
   "metadata": {},
   "outputs": [
    {
     "data": {
      "text/plain": [
       "GridSearchCV(cv=3, estimator=KNeighborsRegressor(),\n",
       "             param_grid={'n_neighbors': array([142, 127,  79,  94, 192,  50,  44, 146,  83, 135, 167,  22,  71,\n",
       "        74,  64, 190,  18, 102,  95, 182])})"
      ]
     },
     "execution_count": 59,
     "metadata": {},
     "output_type": "execute_result"
    }
   ],
   "source": [
    "gscv.fit(xtrain, ytrain)"
   ]
  },
  {
   "cell_type": "code",
   "execution_count": 60,
   "id": "685b916f",
   "metadata": {},
   "outputs": [
    {
     "data": {
      "text/plain": [
       "{'mean_fit_time': array([0.0059967 , 0.00533072, 0.00599734, 0.0059975 , 0.00533088,\n",
       "        0.00533096, 0.00566379, 0.0056603 , 0.00733034, 0.00566395,\n",
       "        0.00533096, 0.0056649 , 0.00533104, 0.00533128, 0.00599726,\n",
       "        0.00533088, 0.0063262 , 0.00532897, 0.00566355, 0.00533104]),\n",
       " 'std_fit_time': array([1.41293103e-03, 4.71932673e-04, 1.12391596e-07, 1.12391596e-07,\n",
       "        4.71314168e-04, 4.71258605e-04, 4.70977074e-04, 4.68359084e-04,\n",
       "        1.24772345e-03, 4.71426560e-04, 4.71426801e-04, 4.71258002e-04,\n",
       "        4.71539032e-04, 4.71201776e-04, 2.97360213e-07, 4.71652146e-04,\n",
       "        4.73923164e-04, 4.71145731e-04, 4.70976993e-04, 4.71876206e-04]),\n",
       " 'mean_score_time': array([0.04365333, 0.03832698, 0.0286576 , 0.0289917 , 0.05431819,\n",
       "        0.01766276, 0.01632945, 0.05131721, 0.03732133, 0.04265404,\n",
       "        0.05065544, 0.01032996, 0.02299341, 0.02366002, 0.02132718,\n",
       "        0.05464975, 0.01033076, 0.03532918, 0.02932509, 0.05298313]),\n",
       " 'std_score_time': array([9.42348186e-04, 4.78113889e-04, 5.18378139e-03, 8.92080638e-07,\n",
       "        4.70359474e-04, 4.70021695e-04, 4.70752291e-04, 9.65985602e-03,\n",
       "        7.03708482e-03, 9.43138657e-04, 3.08860465e-03, 4.71370394e-04,\n",
       "        7.86741172e-07, 4.71426560e-04, 4.71426640e-04, 4.62067481e-04,\n",
       "        1.24799973e-03, 6.17665298e-03, 4.71314168e-04, 1.41338060e-03]),\n",
       " 'param_n_neighbors': masked_array(data=[142, 127, 79, 94, 192, 50, 44, 146, 83, 135, 167, 22,\n",
       "                    71, 74, 64, 190, 18, 102, 95, 182],\n",
       "              mask=[False, False, False, False, False, False, False, False,\n",
       "                    False, False, False, False, False, False, False, False,\n",
       "                    False, False, False, False],\n",
       "        fill_value='?',\n",
       "             dtype=object),\n",
       " 'params': [{'n_neighbors': 142},\n",
       "  {'n_neighbors': 127},\n",
       "  {'n_neighbors': 79},\n",
       "  {'n_neighbors': 94},\n",
       "  {'n_neighbors': 192},\n",
       "  {'n_neighbors': 50},\n",
       "  {'n_neighbors': 44},\n",
       "  {'n_neighbors': 146},\n",
       "  {'n_neighbors': 83},\n",
       "  {'n_neighbors': 135},\n",
       "  {'n_neighbors': 167},\n",
       "  {'n_neighbors': 22},\n",
       "  {'n_neighbors': 71},\n",
       "  {'n_neighbors': 74},\n",
       "  {'n_neighbors': 64},\n",
       "  {'n_neighbors': 190},\n",
       "  {'n_neighbors': 18},\n",
       "  {'n_neighbors': 102},\n",
       "  {'n_neighbors': 95},\n",
       "  {'n_neighbors': 182}],\n",
       " 'split0_test_score': array([0.89340427, 0.89431111, 0.89667075, 0.89615519, 0.88970908,\n",
       "        0.89722716, 0.89746676, 0.89316637, 0.8965119 , 0.89396711,\n",
       "        0.89173965, 0.89614615, 0.89696698, 0.89692168, 0.89739085,\n",
       "        0.88982058, 0.8960449 , 0.89574313, 0.89614615, 0.8904065 ]),\n",
       " 'split1_test_score': array([0.88795223, 0.88880041, 0.89087008, 0.89022182, 0.88510317,\n",
       "        0.89161346, 0.89127679, 0.88770058, 0.89056832, 0.8884588 ,\n",
       "        0.8862895 , 0.89101978, 0.89101784, 0.89109216, 0.89153386,\n",
       "        0.88523849, 0.89063558, 0.88976931, 0.89014403, 0.88563623]),\n",
       " 'split2_test_score': array([0.89393259, 0.89495548, 0.89766953, 0.89680999, 0.89062002,\n",
       "        0.89849137, 0.89866538, 0.8937254 , 0.89748633, 0.89434054,\n",
       "        0.89214158, 0.89969022, 0.89776338, 0.89778496, 0.89791138,\n",
       "        0.89075385, 0.89874568, 0.89640151, 0.89673384, 0.89125802]),\n",
       " 'mean_test_score': array([0.89176303, 0.892689  , 0.89507012, 0.89439567, 0.88847742,\n",
       "        0.89577733, 0.89580298, 0.89153079, 0.89485552, 0.89225548,\n",
       "        0.89005691, 0.89561872, 0.8952494 , 0.89526627, 0.89561203,\n",
       "        0.88860431, 0.89514205, 0.89397132, 0.89434134, 0.88910025]),\n",
       " 'std_test_score': array([0.00270326, 0.0027622 , 0.00299774, 0.00296344, 0.00241477,\n",
       "        0.00298919, 0.00323769, 0.00271796, 0.0030575 , 0.00268899,\n",
       "        0.00266901, 0.00355928, 0.00300977, 0.00297251, 0.00289152,\n",
       "        0.00241029, 0.00337192, 0.0029834 , 0.00297762, 0.00247398]),\n",
       " 'rank_test_score': array([15, 13,  8, 10, 20,  2,  1, 16,  9, 14, 17,  3,  6,  5,  4, 19,  7,\n",
       "        12, 11, 18])}"
      ]
     },
     "execution_count": 60,
     "metadata": {},
     "output_type": "execute_result"
    }
   ],
   "source": [
    "gscv.cv_results_"
   ]
  },
  {
   "cell_type": "code",
   "execution_count": 61,
   "id": "23f89d35",
   "metadata": {},
   "outputs": [],
   "source": [
    "result2 = pd.DataFrame(gscv.cv_results_)"
   ]
  },
  {
   "cell_type": "code",
   "execution_count": 62,
   "id": "a1095ef5",
   "metadata": {},
   "outputs": [
    {
     "data": {
      "text/html": [
       "<div>\n",
       "<style scoped>\n",
       "    .dataframe tbody tr th:only-of-type {\n",
       "        vertical-align: middle;\n",
       "    }\n",
       "\n",
       "    .dataframe tbody tr th {\n",
       "        vertical-align: top;\n",
       "    }\n",
       "\n",
       "    .dataframe thead th {\n",
       "        text-align: right;\n",
       "    }\n",
       "</style>\n",
       "<table border=\"1\" class=\"dataframe\">\n",
       "  <thead>\n",
       "    <tr style=\"text-align: right;\">\n",
       "      <th></th>\n",
       "      <th>mean_fit_time</th>\n",
       "      <th>std_fit_time</th>\n",
       "      <th>mean_score_time</th>\n",
       "      <th>std_score_time</th>\n",
       "      <th>param_n_neighbors</th>\n",
       "      <th>params</th>\n",
       "      <th>split0_test_score</th>\n",
       "      <th>split1_test_score</th>\n",
       "      <th>split2_test_score</th>\n",
       "      <th>mean_test_score</th>\n",
       "      <th>std_test_score</th>\n",
       "      <th>rank_test_score</th>\n",
       "    </tr>\n",
       "  </thead>\n",
       "  <tbody>\n",
       "    <tr>\n",
       "      <th>0</th>\n",
       "      <td>0.005997</td>\n",
       "      <td>1.412931e-03</td>\n",
       "      <td>0.043653</td>\n",
       "      <td>9.423482e-04</td>\n",
       "      <td>142</td>\n",
       "      <td>{'n_neighbors': 142}</td>\n",
       "      <td>0.893404</td>\n",
       "      <td>0.887952</td>\n",
       "      <td>0.893933</td>\n",
       "      <td>0.891763</td>\n",
       "      <td>0.002703</td>\n",
       "      <td>15</td>\n",
       "    </tr>\n",
       "    <tr>\n",
       "      <th>1</th>\n",
       "      <td>0.005331</td>\n",
       "      <td>4.719327e-04</td>\n",
       "      <td>0.038327</td>\n",
       "      <td>4.781139e-04</td>\n",
       "      <td>127</td>\n",
       "      <td>{'n_neighbors': 127}</td>\n",
       "      <td>0.894311</td>\n",
       "      <td>0.888800</td>\n",
       "      <td>0.894955</td>\n",
       "      <td>0.892689</td>\n",
       "      <td>0.002762</td>\n",
       "      <td>13</td>\n",
       "    </tr>\n",
       "    <tr>\n",
       "      <th>2</th>\n",
       "      <td>0.005997</td>\n",
       "      <td>1.123916e-07</td>\n",
       "      <td>0.028658</td>\n",
       "      <td>5.183781e-03</td>\n",
       "      <td>79</td>\n",
       "      <td>{'n_neighbors': 79}</td>\n",
       "      <td>0.896671</td>\n",
       "      <td>0.890870</td>\n",
       "      <td>0.897670</td>\n",
       "      <td>0.895070</td>\n",
       "      <td>0.002998</td>\n",
       "      <td>8</td>\n",
       "    </tr>\n",
       "    <tr>\n",
       "      <th>3</th>\n",
       "      <td>0.005997</td>\n",
       "      <td>1.123916e-07</td>\n",
       "      <td>0.028992</td>\n",
       "      <td>8.920806e-07</td>\n",
       "      <td>94</td>\n",
       "      <td>{'n_neighbors': 94}</td>\n",
       "      <td>0.896155</td>\n",
       "      <td>0.890222</td>\n",
       "      <td>0.896810</td>\n",
       "      <td>0.894396</td>\n",
       "      <td>0.002963</td>\n",
       "      <td>10</td>\n",
       "    </tr>\n",
       "    <tr>\n",
       "      <th>4</th>\n",
       "      <td>0.005331</td>\n",
       "      <td>4.713142e-04</td>\n",
       "      <td>0.054318</td>\n",
       "      <td>4.703595e-04</td>\n",
       "      <td>192</td>\n",
       "      <td>{'n_neighbors': 192}</td>\n",
       "      <td>0.889709</td>\n",
       "      <td>0.885103</td>\n",
       "      <td>0.890620</td>\n",
       "      <td>0.888477</td>\n",
       "      <td>0.002415</td>\n",
       "      <td>20</td>\n",
       "    </tr>\n",
       "    <tr>\n",
       "      <th>5</th>\n",
       "      <td>0.005331</td>\n",
       "      <td>4.712586e-04</td>\n",
       "      <td>0.017663</td>\n",
       "      <td>4.700217e-04</td>\n",
       "      <td>50</td>\n",
       "      <td>{'n_neighbors': 50}</td>\n",
       "      <td>0.897227</td>\n",
       "      <td>0.891613</td>\n",
       "      <td>0.898491</td>\n",
       "      <td>0.895777</td>\n",
       "      <td>0.002989</td>\n",
       "      <td>2</td>\n",
       "    </tr>\n",
       "    <tr>\n",
       "      <th>6</th>\n",
       "      <td>0.005664</td>\n",
       "      <td>4.709771e-04</td>\n",
       "      <td>0.016329</td>\n",
       "      <td>4.707523e-04</td>\n",
       "      <td>44</td>\n",
       "      <td>{'n_neighbors': 44}</td>\n",
       "      <td>0.897467</td>\n",
       "      <td>0.891277</td>\n",
       "      <td>0.898665</td>\n",
       "      <td>0.895803</td>\n",
       "      <td>0.003238</td>\n",
       "      <td>1</td>\n",
       "    </tr>\n",
       "    <tr>\n",
       "      <th>7</th>\n",
       "      <td>0.005660</td>\n",
       "      <td>4.683591e-04</td>\n",
       "      <td>0.051317</td>\n",
       "      <td>9.659856e-03</td>\n",
       "      <td>146</td>\n",
       "      <td>{'n_neighbors': 146}</td>\n",
       "      <td>0.893166</td>\n",
       "      <td>0.887701</td>\n",
       "      <td>0.893725</td>\n",
       "      <td>0.891531</td>\n",
       "      <td>0.002718</td>\n",
       "      <td>16</td>\n",
       "    </tr>\n",
       "    <tr>\n",
       "      <th>8</th>\n",
       "      <td>0.007330</td>\n",
       "      <td>1.247723e-03</td>\n",
       "      <td>0.037321</td>\n",
       "      <td>7.037085e-03</td>\n",
       "      <td>83</td>\n",
       "      <td>{'n_neighbors': 83}</td>\n",
       "      <td>0.896512</td>\n",
       "      <td>0.890568</td>\n",
       "      <td>0.897486</td>\n",
       "      <td>0.894856</td>\n",
       "      <td>0.003057</td>\n",
       "      <td>9</td>\n",
       "    </tr>\n",
       "    <tr>\n",
       "      <th>9</th>\n",
       "      <td>0.005664</td>\n",
       "      <td>4.714266e-04</td>\n",
       "      <td>0.042654</td>\n",
       "      <td>9.431387e-04</td>\n",
       "      <td>135</td>\n",
       "      <td>{'n_neighbors': 135}</td>\n",
       "      <td>0.893967</td>\n",
       "      <td>0.888459</td>\n",
       "      <td>0.894341</td>\n",
       "      <td>0.892255</td>\n",
       "      <td>0.002689</td>\n",
       "      <td>14</td>\n",
       "    </tr>\n",
       "    <tr>\n",
       "      <th>10</th>\n",
       "      <td>0.005331</td>\n",
       "      <td>4.714268e-04</td>\n",
       "      <td>0.050655</td>\n",
       "      <td>3.088605e-03</td>\n",
       "      <td>167</td>\n",
       "      <td>{'n_neighbors': 167}</td>\n",
       "      <td>0.891740</td>\n",
       "      <td>0.886290</td>\n",
       "      <td>0.892142</td>\n",
       "      <td>0.890057</td>\n",
       "      <td>0.002669</td>\n",
       "      <td>17</td>\n",
       "    </tr>\n",
       "    <tr>\n",
       "      <th>11</th>\n",
       "      <td>0.005665</td>\n",
       "      <td>4.712580e-04</td>\n",
       "      <td>0.010330</td>\n",
       "      <td>4.713704e-04</td>\n",
       "      <td>22</td>\n",
       "      <td>{'n_neighbors': 22}</td>\n",
       "      <td>0.896146</td>\n",
       "      <td>0.891020</td>\n",
       "      <td>0.899690</td>\n",
       "      <td>0.895619</td>\n",
       "      <td>0.003559</td>\n",
       "      <td>3</td>\n",
       "    </tr>\n",
       "    <tr>\n",
       "      <th>12</th>\n",
       "      <td>0.005331</td>\n",
       "      <td>4.715390e-04</td>\n",
       "      <td>0.022993</td>\n",
       "      <td>7.867412e-07</td>\n",
       "      <td>71</td>\n",
       "      <td>{'n_neighbors': 71}</td>\n",
       "      <td>0.896967</td>\n",
       "      <td>0.891018</td>\n",
       "      <td>0.897763</td>\n",
       "      <td>0.895249</td>\n",
       "      <td>0.003010</td>\n",
       "      <td>6</td>\n",
       "    </tr>\n",
       "    <tr>\n",
       "      <th>13</th>\n",
       "      <td>0.005331</td>\n",
       "      <td>4.712018e-04</td>\n",
       "      <td>0.023660</td>\n",
       "      <td>4.714266e-04</td>\n",
       "      <td>74</td>\n",
       "      <td>{'n_neighbors': 74}</td>\n",
       "      <td>0.896922</td>\n",
       "      <td>0.891092</td>\n",
       "      <td>0.897785</td>\n",
       "      <td>0.895266</td>\n",
       "      <td>0.002973</td>\n",
       "      <td>5</td>\n",
       "    </tr>\n",
       "    <tr>\n",
       "      <th>14</th>\n",
       "      <td>0.005997</td>\n",
       "      <td>2.973602e-07</td>\n",
       "      <td>0.021327</td>\n",
       "      <td>4.714266e-04</td>\n",
       "      <td>64</td>\n",
       "      <td>{'n_neighbors': 64}</td>\n",
       "      <td>0.897391</td>\n",
       "      <td>0.891534</td>\n",
       "      <td>0.897911</td>\n",
       "      <td>0.895612</td>\n",
       "      <td>0.002892</td>\n",
       "      <td>4</td>\n",
       "    </tr>\n",
       "    <tr>\n",
       "      <th>15</th>\n",
       "      <td>0.005331</td>\n",
       "      <td>4.716521e-04</td>\n",
       "      <td>0.054650</td>\n",
       "      <td>4.620675e-04</td>\n",
       "      <td>190</td>\n",
       "      <td>{'n_neighbors': 190}</td>\n",
       "      <td>0.889821</td>\n",
       "      <td>0.885238</td>\n",
       "      <td>0.890754</td>\n",
       "      <td>0.888604</td>\n",
       "      <td>0.002410</td>\n",
       "      <td>19</td>\n",
       "    </tr>\n",
       "    <tr>\n",
       "      <th>16</th>\n",
       "      <td>0.006326</td>\n",
       "      <td>4.739232e-04</td>\n",
       "      <td>0.010331</td>\n",
       "      <td>1.248000e-03</td>\n",
       "      <td>18</td>\n",
       "      <td>{'n_neighbors': 18}</td>\n",
       "      <td>0.896045</td>\n",
       "      <td>0.890636</td>\n",
       "      <td>0.898746</td>\n",
       "      <td>0.895142</td>\n",
       "      <td>0.003372</td>\n",
       "      <td>7</td>\n",
       "    </tr>\n",
       "    <tr>\n",
       "      <th>17</th>\n",
       "      <td>0.005329</td>\n",
       "      <td>4.711457e-04</td>\n",
       "      <td>0.035329</td>\n",
       "      <td>6.176653e-03</td>\n",
       "      <td>102</td>\n",
       "      <td>{'n_neighbors': 102}</td>\n",
       "      <td>0.895743</td>\n",
       "      <td>0.889769</td>\n",
       "      <td>0.896402</td>\n",
       "      <td>0.893971</td>\n",
       "      <td>0.002983</td>\n",
       "      <td>12</td>\n",
       "    </tr>\n",
       "    <tr>\n",
       "      <th>18</th>\n",
       "      <td>0.005664</td>\n",
       "      <td>4.709770e-04</td>\n",
       "      <td>0.029325</td>\n",
       "      <td>4.713142e-04</td>\n",
       "      <td>95</td>\n",
       "      <td>{'n_neighbors': 95}</td>\n",
       "      <td>0.896146</td>\n",
       "      <td>0.890144</td>\n",
       "      <td>0.896734</td>\n",
       "      <td>0.894341</td>\n",
       "      <td>0.002978</td>\n",
       "      <td>11</td>\n",
       "    </tr>\n",
       "    <tr>\n",
       "      <th>19</th>\n",
       "      <td>0.005331</td>\n",
       "      <td>4.718762e-04</td>\n",
       "      <td>0.052983</td>\n",
       "      <td>1.413381e-03</td>\n",
       "      <td>182</td>\n",
       "      <td>{'n_neighbors': 182}</td>\n",
       "      <td>0.890407</td>\n",
       "      <td>0.885636</td>\n",
       "      <td>0.891258</td>\n",
       "      <td>0.889100</td>\n",
       "      <td>0.002474</td>\n",
       "      <td>18</td>\n",
       "    </tr>\n",
       "  </tbody>\n",
       "</table>\n",
       "</div>"
      ],
      "text/plain": [
       "    mean_fit_time  std_fit_time  mean_score_time  std_score_time  \\\n",
       "0        0.005997  1.412931e-03         0.043653    9.423482e-04   \n",
       "1        0.005331  4.719327e-04         0.038327    4.781139e-04   \n",
       "2        0.005997  1.123916e-07         0.028658    5.183781e-03   \n",
       "3        0.005997  1.123916e-07         0.028992    8.920806e-07   \n",
       "4        0.005331  4.713142e-04         0.054318    4.703595e-04   \n",
       "5        0.005331  4.712586e-04         0.017663    4.700217e-04   \n",
       "6        0.005664  4.709771e-04         0.016329    4.707523e-04   \n",
       "7        0.005660  4.683591e-04         0.051317    9.659856e-03   \n",
       "8        0.007330  1.247723e-03         0.037321    7.037085e-03   \n",
       "9        0.005664  4.714266e-04         0.042654    9.431387e-04   \n",
       "10       0.005331  4.714268e-04         0.050655    3.088605e-03   \n",
       "11       0.005665  4.712580e-04         0.010330    4.713704e-04   \n",
       "12       0.005331  4.715390e-04         0.022993    7.867412e-07   \n",
       "13       0.005331  4.712018e-04         0.023660    4.714266e-04   \n",
       "14       0.005997  2.973602e-07         0.021327    4.714266e-04   \n",
       "15       0.005331  4.716521e-04         0.054650    4.620675e-04   \n",
       "16       0.006326  4.739232e-04         0.010331    1.248000e-03   \n",
       "17       0.005329  4.711457e-04         0.035329    6.176653e-03   \n",
       "18       0.005664  4.709770e-04         0.029325    4.713142e-04   \n",
       "19       0.005331  4.718762e-04         0.052983    1.413381e-03   \n",
       "\n",
       "   param_n_neighbors                params  split0_test_score  \\\n",
       "0                142  {'n_neighbors': 142}           0.893404   \n",
       "1                127  {'n_neighbors': 127}           0.894311   \n",
       "2                 79   {'n_neighbors': 79}           0.896671   \n",
       "3                 94   {'n_neighbors': 94}           0.896155   \n",
       "4                192  {'n_neighbors': 192}           0.889709   \n",
       "5                 50   {'n_neighbors': 50}           0.897227   \n",
       "6                 44   {'n_neighbors': 44}           0.897467   \n",
       "7                146  {'n_neighbors': 146}           0.893166   \n",
       "8                 83   {'n_neighbors': 83}           0.896512   \n",
       "9                135  {'n_neighbors': 135}           0.893967   \n",
       "10               167  {'n_neighbors': 167}           0.891740   \n",
       "11                22   {'n_neighbors': 22}           0.896146   \n",
       "12                71   {'n_neighbors': 71}           0.896967   \n",
       "13                74   {'n_neighbors': 74}           0.896922   \n",
       "14                64   {'n_neighbors': 64}           0.897391   \n",
       "15               190  {'n_neighbors': 190}           0.889821   \n",
       "16                18   {'n_neighbors': 18}           0.896045   \n",
       "17               102  {'n_neighbors': 102}           0.895743   \n",
       "18                95   {'n_neighbors': 95}           0.896146   \n",
       "19               182  {'n_neighbors': 182}           0.890407   \n",
       "\n",
       "    split1_test_score  split2_test_score  mean_test_score  std_test_score  \\\n",
       "0            0.887952           0.893933         0.891763        0.002703   \n",
       "1            0.888800           0.894955         0.892689        0.002762   \n",
       "2            0.890870           0.897670         0.895070        0.002998   \n",
       "3            0.890222           0.896810         0.894396        0.002963   \n",
       "4            0.885103           0.890620         0.888477        0.002415   \n",
       "5            0.891613           0.898491         0.895777        0.002989   \n",
       "6            0.891277           0.898665         0.895803        0.003238   \n",
       "7            0.887701           0.893725         0.891531        0.002718   \n",
       "8            0.890568           0.897486         0.894856        0.003057   \n",
       "9            0.888459           0.894341         0.892255        0.002689   \n",
       "10           0.886290           0.892142         0.890057        0.002669   \n",
       "11           0.891020           0.899690         0.895619        0.003559   \n",
       "12           0.891018           0.897763         0.895249        0.003010   \n",
       "13           0.891092           0.897785         0.895266        0.002973   \n",
       "14           0.891534           0.897911         0.895612        0.002892   \n",
       "15           0.885238           0.890754         0.888604        0.002410   \n",
       "16           0.890636           0.898746         0.895142        0.003372   \n",
       "17           0.889769           0.896402         0.893971        0.002983   \n",
       "18           0.890144           0.896734         0.894341        0.002978   \n",
       "19           0.885636           0.891258         0.889100        0.002474   \n",
       "\n",
       "    rank_test_score  \n",
       "0                15  \n",
       "1                13  \n",
       "2                 8  \n",
       "3                10  \n",
       "4                20  \n",
       "5                 2  \n",
       "6                 1  \n",
       "7                16  \n",
       "8                 9  \n",
       "9                14  \n",
       "10               17  \n",
       "11                3  \n",
       "12                6  \n",
       "13                5  \n",
       "14                4  \n",
       "15               19  \n",
       "16                7  \n",
       "17               12  \n",
       "18               11  \n",
       "19               18  "
      ]
     },
     "execution_count": 62,
     "metadata": {},
     "output_type": "execute_result"
    }
   ],
   "source": [
    "result2"
   ]
  },
  {
   "cell_type": "code",
   "execution_count": 63,
   "id": "4c09f3ee",
   "metadata": {},
   "outputs": [
    {
     "data": {
      "text/plain": [
       "0.8958029760661083"
      ]
     },
     "execution_count": 63,
     "metadata": {},
     "output_type": "execute_result"
    }
   ],
   "source": [
    "gscv.best_score_"
   ]
  },
  {
   "cell_type": "code",
   "execution_count": 64,
   "id": "5e7b91db",
   "metadata": {},
   "outputs": [
    {
     "data": {
      "text/plain": [
       "KNeighborsRegressor(n_neighbors=44)"
      ]
     },
     "execution_count": 64,
     "metadata": {},
     "output_type": "execute_result"
    }
   ],
   "source": [
    "gscv.best_estimator_"
   ]
  },
  {
   "cell_type": "code",
   "execution_count": 65,
   "id": "bf780842",
   "metadata": {},
   "outputs": [],
   "source": [
    "best2 = gscv.best_estimator_"
   ]
  },
  {
   "cell_type": "code",
   "execution_count": 66,
   "id": "14ef64cc",
   "metadata": {},
   "outputs": [
    {
     "data": {
      "text/plain": [
       "0.8972539833172211"
      ]
     },
     "execution_count": 66,
     "metadata": {},
     "output_type": "execute_result"
    }
   ],
   "source": [
    "best2.score(xtest, ytest)"
   ]
  },
  {
   "cell_type": "code",
   "execution_count": 67,
   "id": "b636c66b",
   "metadata": {},
   "outputs": [
    {
     "data": {
      "text/plain": [
       "KNeighborsRegressor(n_neighbors=44)"
      ]
     },
     "execution_count": 67,
     "metadata": {},
     "output_type": "execute_result"
    }
   ],
   "source": [
    "gscv.best_estimator_"
   ]
  },
  {
   "cell_type": "markdown",
   "id": "be0732a1",
   "metadata": {},
   "source": [
    "# KNN Classifier with Python"
   ]
  },
  {
   "cell_type": "code",
   "execution_count": 68,
   "id": "9fee4052",
   "metadata": {},
   "outputs": [],
   "source": [
    "df = pd.read_csv('weight-height.csv')"
   ]
  },
  {
   "cell_type": "code",
   "execution_count": 69,
   "id": "e47be0d1",
   "metadata": {},
   "outputs": [
    {
     "data": {
      "text/html": [
       "<div>\n",
       "<style scoped>\n",
       "    .dataframe tbody tr th:only-of-type {\n",
       "        vertical-align: middle;\n",
       "    }\n",
       "\n",
       "    .dataframe tbody tr th {\n",
       "        vertical-align: top;\n",
       "    }\n",
       "\n",
       "    .dataframe thead th {\n",
       "        text-align: right;\n",
       "    }\n",
       "</style>\n",
       "<table border=\"1\" class=\"dataframe\">\n",
       "  <thead>\n",
       "    <tr style=\"text-align: right;\">\n",
       "      <th></th>\n",
       "      <th>Gender</th>\n",
       "      <th>Height</th>\n",
       "      <th>Weight</th>\n",
       "    </tr>\n",
       "  </thead>\n",
       "  <tbody>\n",
       "    <tr>\n",
       "      <th>0</th>\n",
       "      <td>Male</td>\n",
       "      <td>73.847017</td>\n",
       "      <td>241.893563</td>\n",
       "    </tr>\n",
       "    <tr>\n",
       "      <th>1</th>\n",
       "      <td>Male</td>\n",
       "      <td>68.781904</td>\n",
       "      <td>162.310473</td>\n",
       "    </tr>\n",
       "    <tr>\n",
       "      <th>2</th>\n",
       "      <td>Male</td>\n",
       "      <td>74.110105</td>\n",
       "      <td>212.740856</td>\n",
       "    </tr>\n",
       "    <tr>\n",
       "      <th>3</th>\n",
       "      <td>Male</td>\n",
       "      <td>71.730978</td>\n",
       "      <td>220.042470</td>\n",
       "    </tr>\n",
       "    <tr>\n",
       "      <th>4</th>\n",
       "      <td>Male</td>\n",
       "      <td>69.881796</td>\n",
       "      <td>206.349801</td>\n",
       "    </tr>\n",
       "  </tbody>\n",
       "</table>\n",
       "</div>"
      ],
      "text/plain": [
       "  Gender     Height      Weight\n",
       "0   Male  73.847017  241.893563\n",
       "1   Male  68.781904  162.310473\n",
       "2   Male  74.110105  212.740856\n",
       "3   Male  71.730978  220.042470\n",
       "4   Male  69.881796  206.349801"
      ]
     },
     "execution_count": 69,
     "metadata": {},
     "output_type": "execute_result"
    }
   ],
   "source": [
    "df.head()"
   ]
  },
  {
   "cell_type": "code",
   "execution_count": 75,
   "id": "35e44b56",
   "metadata": {},
   "outputs": [],
   "source": [
    "import numpy as np\n",
    "import pandas as pd\n",
    "import matplotlib.pyplot as plt\n",
    "import seaborn as sns"
   ]
  },
  {
   "cell_type": "code",
   "execution_count": 77,
   "id": "3119e6b1",
   "metadata": {},
   "outputs": [
    {
     "data": {
      "text/plain": [
       "<matplotlib.legend.Legend at 0x2dd30108df0>"
      ]
     },
     "execution_count": 77,
     "metadata": {},
     "output_type": "execute_result"
    },
    {
     "data": {
      "image/png": "[encoded data removed]",
      "text/plain": [
       "<Figure size 432x288 with 1 Axes>"
      ]
     },
     "metadata": {
      "needs_background": "light"
     },
     "output_type": "display_data"
    }
   ],
   "source": [
    "df0 = df[ df.Gender=='Male']\n",
    "df1 = df[ df.Gender=='Female']\n",
    "\n",
    "plt.scatter(df0['Height'],df0['Weight'],color='green',label='Male')\n",
    "plt.scatter(df1['Height'],df1['Weight'],color='orange',label='Female')\n",
    "\n",
    "plt.legend()"
   ]
  },
  {
   "cell_type": "code",
   "execution_count": 78,
   "id": "50a85c68",
   "metadata": {},
   "outputs": [],
   "source": [
    "df['Gender'] = df.Gender.replace({'Male':0, 'Female':1})"
   ]
  },
  {
   "cell_type": "code",
   "execution_count": 79,
   "id": "55e7a321",
   "metadata": {},
   "outputs": [],
   "source": [
    "x = df.drop(['Gender'], axis=1)"
   ]
  },
  {
   "cell_type": "code",
   "execution_count": 80,
   "id": "2235ef29",
   "metadata": {},
   "outputs": [],
   "source": [
    "y = df.Gender"
   ]
  },
  {
   "cell_type": "code",
   "execution_count": 81,
   "id": "ba24b13c",
   "metadata": {},
   "outputs": [
    {
     "data": {
      "text/html": [
       "<div>\n",
       "<style scoped>\n",
       "    .dataframe tbody tr th:only-of-type {\n",
       "        vertical-align: middle;\n",
       "    }\n",
       "\n",
       "    .dataframe tbody tr th {\n",
       "        vertical-align: top;\n",
       "    }\n",
       "\n",
       "    .dataframe thead th {\n",
       "        text-align: right;\n",
       "    }\n",
       "</style>\n",
       "<table border=\"1\" class=\"dataframe\">\n",
       "  <thead>\n",
       "    <tr style=\"text-align: right;\">\n",
       "      <th></th>\n",
       "      <th>Height</th>\n",
       "      <th>Weight</th>\n",
       "    </tr>\n",
       "  </thead>\n",
       "  <tbody>\n",
       "    <tr>\n",
       "      <th>0</th>\n",
       "      <td>73.847017</td>\n",
       "      <td>241.893563</td>\n",
       "    </tr>\n",
       "    <tr>\n",
       "      <th>1</th>\n",
       "      <td>68.781904</td>\n",
       "      <td>162.310473</td>\n",
       "    </tr>\n",
       "    <tr>\n",
       "      <th>2</th>\n",
       "      <td>74.110105</td>\n",
       "      <td>212.740856</td>\n",
       "    </tr>\n",
       "    <tr>\n",
       "      <th>3</th>\n",
       "      <td>71.730978</td>\n",
       "      <td>220.042470</td>\n",
       "    </tr>\n",
       "    <tr>\n",
       "      <th>4</th>\n",
       "      <td>69.881796</td>\n",
       "      <td>206.349801</td>\n",
       "    </tr>\n",
       "  </tbody>\n",
       "</table>\n",
       "</div>"
      ],
      "text/plain": [
       "      Height      Weight\n",
       "0  73.847017  241.893563\n",
       "1  68.781904  162.310473\n",
       "2  74.110105  212.740856\n",
       "3  71.730978  220.042470\n",
       "4  69.881796  206.349801"
      ]
     },
     "execution_count": 81,
     "metadata": {},
     "output_type": "execute_result"
    }
   ],
   "source": [
    "x.head()"
   ]
  },
  {
   "cell_type": "code",
   "execution_count": 82,
   "id": "62b8166a",
   "metadata": {},
   "outputs": [],
   "source": [
    "# split train and test data\n",
    "from sklearn.model_selection import train_test_split"
   ]
  },
  {
   "cell_type": "code",
   "execution_count": 84,
   "id": "6cf5defa",
   "metadata": {},
   "outputs": [],
   "source": [
    "xtrain, xtest, ytrain, ytest = train_test_split(x,y,train_size=.70)"
   ]
  },
  {
   "cell_type": "code",
   "execution_count": 85,
   "id": "88e85946",
   "metadata": {},
   "outputs": [],
   "source": [
    "from sklearn.neighbors import KNeighborsClassifier"
   ]
  },
  {
   "cell_type": "code",
   "execution_count": 86,
   "id": "8b5ecaec",
   "metadata": {},
   "outputs": [],
   "source": [
    "knn2 = KNeighborsClassifier()"
   ]
  },
  {
   "cell_type": "code",
   "execution_count": 87,
   "id": "fd534349",
   "metadata": {},
   "outputs": [
    {
     "data": {
      "text/plain": [
       "KNeighborsClassifier()"
      ]
     },
     "execution_count": 87,
     "metadata": {},
     "output_type": "execute_result"
    }
   ],
   "source": [
    "knn2.fit(xtrain, ytrain)"
   ]
  },
  {
   "cell_type": "code",
   "execution_count": 88,
   "id": "e3d68831",
   "metadata": {},
   "outputs": [
    {
     "data": {
      "text/plain": [
       "0.9100116867939229"
      ]
     },
     "execution_count": 88,
     "metadata": {},
     "output_type": "execute_result"
    }
   ],
   "source": [
    "knn2.score(xtest, ytest)"
   ]
  },
  {
   "cell_type": "code",
   "execution_count": 89,
   "id": "07f8ad61",
   "metadata": {},
   "outputs": [
    {
     "data": {
      "text/plain": [
       "array([1, 1, 1, ..., 1, 1, 0], dtype=int64)"
      ]
     },
     "execution_count": 89,
     "metadata": {},
     "output_type": "execute_result"
    }
   ],
   "source": [
    "knn2.predict(xtest)"
   ]
  },
  {
   "cell_type": "code",
   "execution_count": 90,
   "id": "f01415e5",
   "metadata": {},
   "outputs": [
    {
     "data": {
      "text/html": [
       "<div>\n",
       "<style scoped>\n",
       "    .dataframe tbody tr th:only-of-type {\n",
       "        vertical-align: middle;\n",
       "    }\n",
       "\n",
       "    .dataframe tbody tr th {\n",
       "        vertical-align: top;\n",
       "    }\n",
       "\n",
       "    .dataframe thead th {\n",
       "        text-align: right;\n",
       "    }\n",
       "</style>\n",
       "<table border=\"1\" class=\"dataframe\">\n",
       "  <thead>\n",
       "    <tr style=\"text-align: right;\">\n",
       "      <th></th>\n",
       "      <th>Height</th>\n",
       "      <th>Weight</th>\n",
       "    </tr>\n",
       "  </thead>\n",
       "  <tbody>\n",
       "    <tr>\n",
       "      <th>7744</th>\n",
       "      <td>64.678780</td>\n",
       "      <td>131.652285</td>\n",
       "    </tr>\n",
       "    <tr>\n",
       "      <th>6931</th>\n",
       "      <td>67.552404</td>\n",
       "      <td>160.726511</td>\n",
       "    </tr>\n",
       "    <tr>\n",
       "      <th>6900</th>\n",
       "      <td>63.516500</td>\n",
       "      <td>120.810049</td>\n",
       "    </tr>\n",
       "    <tr>\n",
       "      <th>714</th>\n",
       "      <td>69.793888</td>\n",
       "      <td>181.723193</td>\n",
       "    </tr>\n",
       "    <tr>\n",
       "      <th>7618</th>\n",
       "      <td>64.520431</td>\n",
       "      <td>138.789809</td>\n",
       "    </tr>\n",
       "  </tbody>\n",
       "</table>\n",
       "</div>"
      ],
      "text/plain": [
       "         Height      Weight\n",
       "7744  64.678780  131.652285\n",
       "6931  67.552404  160.726511\n",
       "6900  63.516500  120.810049\n",
       "714   69.793888  181.723193\n",
       "7618  64.520431  138.789809"
      ]
     },
     "execution_count": 90,
     "metadata": {},
     "output_type": "execute_result"
    }
   ],
   "source": [
    "xtest.head()"
   ]
  },
  {
   "cell_type": "markdown",
   "id": "3c950b5c",
   "metadata": {},
   "source": [
    "# Tuning"
   ]
  },
  {
   "cell_type": "code",
   "execution_count": 96,
   "id": "2eeee482",
   "metadata": {},
   "outputs": [],
   "source": [
    "knn3 = KNeighborsClassifier()"
   ]
  },
  {
   "cell_type": "markdown",
   "id": "930865f6",
   "metadata": {},
   "source": [
    "# Randomized Search CV"
   ]
  },
  {
   "cell_type": "code",
   "execution_count": 98,
   "id": "6764c374",
   "metadata": {},
   "outputs": [],
   "source": [
    "rs2 = RandomizedSearchCV(knn3, grids, n_iter=200, cv=5)"
   ]
  },
  {
   "cell_type": "code",
   "execution_count": 99,
   "id": "576169d3",
   "metadata": {},
   "outputs": [
    {
     "name": "stderr",
     "output_type": "stream",
     "text": [
      "D:\\ProgramData\\Anaconda3\\lib\\site-packages\\sklearn\\model_selection\\_search.py:285: UserWarning: The total space of parameters 20 is smaller than n_iter=200. Running 20 iterations. For exhaustive searches, use GridSearchCV.\n",
      "  warnings.warn(\n"
     ]
    },
    {
     "data": {
      "text/plain": [
       "RandomizedSearchCV(cv=5, estimator=KNeighborsClassifier(), n_iter=200,\n",
       "                   param_distributions={'n_neighbors': array([142, 127,  79,  94, 192,  50,  44, 146,  83, 135, 167,  22,  71,\n",
       "        74,  64, 190,  18, 102,  95, 182])})"
      ]
     },
     "execution_count": 99,
     "metadata": {},
     "output_type": "execute_result"
    }
   ],
   "source": [
    "rs2.fit(xtrain, ytrain)"
   ]
  },
  {
   "cell_type": "code",
   "execution_count": 100,
   "id": "0e0eec5b",
   "metadata": {},
   "outputs": [
    {
     "data": {
      "text/plain": [
       "{'mean_fit_time': array([0.00239663, 0.00624957, 0.00312495, 0.00312424, 0.00624995,\n",
       "        0.        , 0.003125  , 0.01249886, 0.00724921, 0.00199614,\n",
       "        0.00586891, 0.00572672, 0.01369834, 0.00645623, 0.00884871,\n",
       "        0.00625081, 0.00532179, 0.00312538, 0.00745006, 0.00625033]),\n",
       " 'std_fit_time': array([0.00293526, 0.00765413, 0.0062499 , 0.00624847, 0.0076546 ,\n",
       "        0.        , 0.00625   , 0.00624943, 0.00707716, 0.00244476,\n",
       "        0.00045678, 0.00581901, 0.0038507 , 0.0074935 , 0.00602785,\n",
       "        0.00765565, 0.0057157 , 0.00625076, 0.00702586, 0.00765506]),\n",
       " 'mean_score_time': array([0.06123061, 0.04999604, 0.04687014, 0.05098653, 0.06286721,\n",
       "        0.04686809, 0.03749661, 0.05624547, 0.04366522, 0.06330061,\n",
       "        0.06033092, 0.04067612, 0.07095728, 0.06363544, 0.05258012,\n",
       "        0.06249352, 0.0322104 , 0.04999514, 0.04617405, 0.0656796 ]),\n",
       " 'std_score_time': array([8.11594347e-03, 6.24923718e-03, 1.45102730e-06, 6.06906164e-03,\n",
       "        7.39210234e-04, 5.36944895e-06, 7.65362388e-03, 1.24971988e-02,\n",
       "        9.99314730e-03, 4.91087451e-03, 6.90753805e-03, 8.37807625e-03,\n",
       "        1.43235207e-02, 1.00381130e-02, 1.35042359e-02, 2.02529531e-06,\n",
       "        1.45465452e-03, 6.24897505e-03, 4.18338311e-03, 6.37242796e-03]),\n",
       " 'param_n_neighbors': masked_array(data=[142, 127, 79, 94, 192, 50, 44, 146, 83, 135, 167, 22,\n",
       "                    71, 74, 64, 190, 18, 102, 95, 182],\n",
       "              mask=[False, False, False, False, False, False, False, False,\n",
       "                    False, False, False, False, False, False, False, False,\n",
       "                    False, False, False, False],\n",
       "        fill_value='?',\n",
       "             dtype=object),\n",
       " 'params': [{'n_neighbors': 142},\n",
       "  {'n_neighbors': 127},\n",
       "  {'n_neighbors': 79},\n",
       "  {'n_neighbors': 94},\n",
       "  {'n_neighbors': 192},\n",
       "  {'n_neighbors': 50},\n",
       "  {'n_neighbors': 44},\n",
       "  {'n_neighbors': 146},\n",
       "  {'n_neighbors': 83},\n",
       "  {'n_neighbors': 135},\n",
       "  {'n_neighbors': 167},\n",
       "  {'n_neighbors': 22},\n",
       "  {'n_neighbors': 71},\n",
       "  {'n_neighbors': 74},\n",
       "  {'n_neighbors': 64},\n",
       "  {'n_neighbors': 190},\n",
       "  {'n_neighbors': 18},\n",
       "  {'n_neighbors': 102},\n",
       "  {'n_neighbors': 95},\n",
       "  {'n_neighbors': 182}],\n",
       " 'split0_test_score': array([0.91068447, 0.91318865, 0.91819699, 0.9148581 , 0.9115192 ,\n",
       "        0.91903172, 0.91652755, 0.90984975, 0.91903172, 0.91068447,\n",
       "        0.91402337, 0.91235392, 0.91819699, 0.91903172, 0.91819699,\n",
       "        0.91235392, 0.91068447, 0.91736227, 0.91652755, 0.91318865]),\n",
       " 'split1_test_score': array([0.92320534, 0.92404007, 0.92404007, 0.92570952, 0.91819699,\n",
       "        0.92153589, 0.92320534, 0.92320534, 0.92404007, 0.92320534,\n",
       "        0.92404007, 0.91819699, 0.92237062, 0.92570952, 0.92487479,\n",
       "        0.91903172, 0.91736227, 0.92654424, 0.92570952, 0.91986644]),\n",
       " 'split2_test_score': array([0.89732888, 0.89732888, 0.90066778, 0.90066778, 0.89315526,\n",
       "        0.90400668, 0.90233723, 0.89732888, 0.90066778, 0.89732888,\n",
       "        0.89565943, 0.90651085, 0.9015025 , 0.9015025 , 0.90233723,\n",
       "        0.89315526, 0.90567613, 0.89899833, 0.90066778, 0.89315526]),\n",
       " 'split3_test_score': array([0.91812865, 0.91896408, 0.92147034, 0.9197995 , 0.91144528,\n",
       "        0.92230576, 0.92481203, 0.91562239, 0.92147034, 0.91812865,\n",
       "        0.91729323, 0.92147034, 0.9197995 , 0.91896408, 0.92063492,\n",
       "        0.91060986, 0.92147034, 0.91896408, 0.9197995 , 0.9122807 ]),\n",
       " 'split4_test_score': array([0.91812865, 0.91812865, 0.91896408, 0.91812865, 0.91478697,\n",
       "        0.92063492, 0.92063492, 0.91729323, 0.91812865, 0.91729323,\n",
       "        0.91395155, 0.9197995 , 0.9197995 , 0.92063492, 0.91896408,\n",
       "        0.91395155, 0.9197995 , 0.91812865, 0.91812865, 0.91478697]),\n",
       " 'mean_test_score': array([0.9134952 , 0.91433007, 0.91666785, 0.91583271, 0.90982074,\n",
       "        0.917503  , 0.91750341, 0.91265992, 0.91666771, 0.91332812,\n",
       "        0.91299353, 0.91566632, 0.91633382, 0.91716855, 0.9170016 ,\n",
       "        0.90982046, 0.91499854, 0.91599951, 0.9161666 , 0.9106556 ]),\n",
       " 'std_test_score': array([0.00901637, 0.00917094, 0.00825865, 0.00836042, 0.00869583,\n",
       "        0.0068356 , 0.00808331, 0.00876798, 0.00826   , 0.00893634,\n",
       "        0.00941236, 0.00551305, 0.00753531, 0.00821078, 0.00768781,\n",
       "        0.00879413, 0.00593362, 0.00911494, 0.00834816, 0.00913485]),\n",
       " 'rank_test_score': array([14, 13,  5, 10, 19,  2,  1, 17,  6, 15, 16, 11,  7,  3,  4, 20, 12,\n",
       "         9,  8, 18])}"
      ]
     },
     "execution_count": 100,
     "metadata": {},
     "output_type": "execute_result"
    }
   ],
   "source": [
    "rs2.cv_results_"
   ]
  },
  {
   "cell_type": "code",
   "execution_count": 101,
   "id": "3ff5d187",
   "metadata": {},
   "outputs": [],
   "source": [
    "results = pd.DataFrame(rs2.cv_results_)"
   ]
  },
  {
   "cell_type": "code",
   "execution_count": 102,
   "id": "c04777b7",
   "metadata": {},
   "outputs": [
    {
     "data": {
      "text/html": [
       "<div>\n",
       "<style scoped>\n",
       "    .dataframe tbody tr th:only-of-type {\n",
       "        vertical-align: middle;\n",
       "    }\n",
       "\n",
       "    .dataframe tbody tr th {\n",
       "        vertical-align: top;\n",
       "    }\n",
       "\n",
       "    .dataframe thead th {\n",
       "        text-align: right;\n",
       "    }\n",
       "</style>\n",
       "<table border=\"1\" class=\"dataframe\">\n",
       "  <thead>\n",
       "    <tr style=\"text-align: right;\">\n",
       "      <th></th>\n",
       "      <th>mean_fit_time</th>\n",
       "      <th>std_fit_time</th>\n",
       "      <th>mean_score_time</th>\n",
       "      <th>std_score_time</th>\n",
       "      <th>param_n_neighbors</th>\n",
       "      <th>params</th>\n",
       "      <th>split0_test_score</th>\n",
       "      <th>split1_test_score</th>\n",
       "      <th>split2_test_score</th>\n",
       "      <th>split3_test_score</th>\n",
       "      <th>split4_test_score</th>\n",
       "      <th>mean_test_score</th>\n",
       "      <th>std_test_score</th>\n",
       "      <th>rank_test_score</th>\n",
       "    </tr>\n",
       "  </thead>\n",
       "  <tbody>\n",
       "    <tr>\n",
       "      <th>0</th>\n",
       "      <td>0.002397</td>\n",
       "      <td>0.002935</td>\n",
       "      <td>0.061231</td>\n",
       "      <td>0.008116</td>\n",
       "      <td>142</td>\n",
       "      <td>{'n_neighbors': 142}</td>\n",
       "      <td>0.910684</td>\n",
       "      <td>0.923205</td>\n",
       "      <td>0.897329</td>\n",
       "      <td>0.918129</td>\n",
       "      <td>0.918129</td>\n",
       "      <td>0.913495</td>\n",
       "      <td>0.009016</td>\n",
       "      <td>14</td>\n",
       "    </tr>\n",
       "    <tr>\n",
       "      <th>1</th>\n",
       "      <td>0.006250</td>\n",
       "      <td>0.007654</td>\n",
       "      <td>0.049996</td>\n",
       "      <td>0.006249</td>\n",
       "      <td>127</td>\n",
       "      <td>{'n_neighbors': 127}</td>\n",
       "      <td>0.913189</td>\n",
       "      <td>0.924040</td>\n",
       "      <td>0.897329</td>\n",
       "      <td>0.918964</td>\n",
       "      <td>0.918129</td>\n",
       "      <td>0.914330</td>\n",
       "      <td>0.009171</td>\n",
       "      <td>13</td>\n",
       "    </tr>\n",
       "    <tr>\n",
       "      <th>2</th>\n",
       "      <td>0.003125</td>\n",
       "      <td>0.006250</td>\n",
       "      <td>0.046870</td>\n",
       "      <td>0.000001</td>\n",
       "      <td>79</td>\n",
       "      <td>{'n_neighbors': 79}</td>\n",
       "      <td>0.918197</td>\n",
       "      <td>0.924040</td>\n",
       "      <td>0.900668</td>\n",
       "      <td>0.921470</td>\n",
       "      <td>0.918964</td>\n",
       "      <td>0.916668</td>\n",
       "      <td>0.008259</td>\n",
       "      <td>5</td>\n",
       "    </tr>\n",
       "    <tr>\n",
       "      <th>3</th>\n",
       "      <td>0.003124</td>\n",
       "      <td>0.006248</td>\n",
       "      <td>0.050987</td>\n",
       "      <td>0.006069</td>\n",
       "      <td>94</td>\n",
       "      <td>{'n_neighbors': 94}</td>\n",
       "      <td>0.914858</td>\n",
       "      <td>0.925710</td>\n",
       "      <td>0.900668</td>\n",
       "      <td>0.919799</td>\n",
       "      <td>0.918129</td>\n",
       "      <td>0.915833</td>\n",
       "      <td>0.008360</td>\n",
       "      <td>10</td>\n",
       "    </tr>\n",
       "    <tr>\n",
       "      <th>4</th>\n",
       "      <td>0.006250</td>\n",
       "      <td>0.007655</td>\n",
       "      <td>0.062867</td>\n",
       "      <td>0.000739</td>\n",
       "      <td>192</td>\n",
       "      <td>{'n_neighbors': 192}</td>\n",
       "      <td>0.911519</td>\n",
       "      <td>0.918197</td>\n",
       "      <td>0.893155</td>\n",
       "      <td>0.911445</td>\n",
       "      <td>0.914787</td>\n",
       "      <td>0.909821</td>\n",
       "      <td>0.008696</td>\n",
       "      <td>19</td>\n",
       "    </tr>\n",
       "    <tr>\n",
       "      <th>5</th>\n",
       "      <td>0.000000</td>\n",
       "      <td>0.000000</td>\n",
       "      <td>0.046868</td>\n",
       "      <td>0.000005</td>\n",
       "      <td>50</td>\n",
       "      <td>{'n_neighbors': 50}</td>\n",
       "      <td>0.919032</td>\n",
       "      <td>0.921536</td>\n",
       "      <td>0.904007</td>\n",
       "      <td>0.922306</td>\n",
       "      <td>0.920635</td>\n",
       "      <td>0.917503</td>\n",
       "      <td>0.006836</td>\n",
       "      <td>2</td>\n",
       "    </tr>\n",
       "    <tr>\n",
       "      <th>6</th>\n",
       "      <td>0.003125</td>\n",
       "      <td>0.006250</td>\n",
       "      <td>0.037497</td>\n",
       "      <td>0.007654</td>\n",
       "      <td>44</td>\n",
       "      <td>{'n_neighbors': 44}</td>\n",
       "      <td>0.916528</td>\n",
       "      <td>0.923205</td>\n",
       "      <td>0.902337</td>\n",
       "      <td>0.924812</td>\n",
       "      <td>0.920635</td>\n",
       "      <td>0.917503</td>\n",
       "      <td>0.008083</td>\n",
       "      <td>1</td>\n",
       "    </tr>\n",
       "    <tr>\n",
       "      <th>7</th>\n",
       "      <td>0.012499</td>\n",
       "      <td>0.006249</td>\n",
       "      <td>0.056245</td>\n",
       "      <td>0.012497</td>\n",
       "      <td>146</td>\n",
       "      <td>{'n_neighbors': 146}</td>\n",
       "      <td>0.909850</td>\n",
       "      <td>0.923205</td>\n",
       "      <td>0.897329</td>\n",
       "      <td>0.915622</td>\n",
       "      <td>0.917293</td>\n",
       "      <td>0.912660</td>\n",
       "      <td>0.008768</td>\n",
       "      <td>17</td>\n",
       "    </tr>\n",
       "    <tr>\n",
       "      <th>8</th>\n",
       "      <td>0.007249</td>\n",
       "      <td>0.007077</td>\n",
       "      <td>0.043665</td>\n",
       "      <td>0.009993</td>\n",
       "      <td>83</td>\n",
       "      <td>{'n_neighbors': 83}</td>\n",
       "      <td>0.919032</td>\n",
       "      <td>0.924040</td>\n",
       "      <td>0.900668</td>\n",
       "      <td>0.921470</td>\n",
       "      <td>0.918129</td>\n",
       "      <td>0.916668</td>\n",
       "      <td>0.008260</td>\n",
       "      <td>6</td>\n",
       "    </tr>\n",
       "    <tr>\n",
       "      <th>9</th>\n",
       "      <td>0.001996</td>\n",
       "      <td>0.002445</td>\n",
       "      <td>0.063301</td>\n",
       "      <td>0.004911</td>\n",
       "      <td>135</td>\n",
       "      <td>{'n_neighbors': 135}</td>\n",
       "      <td>0.910684</td>\n",
       "      <td>0.923205</td>\n",
       "      <td>0.897329</td>\n",
       "      <td>0.918129</td>\n",
       "      <td>0.917293</td>\n",
       "      <td>0.913328</td>\n",
       "      <td>0.008936</td>\n",
       "      <td>15</td>\n",
       "    </tr>\n",
       "    <tr>\n",
       "      <th>10</th>\n",
       "      <td>0.005869</td>\n",
       "      <td>0.000457</td>\n",
       "      <td>0.060331</td>\n",
       "      <td>0.006908</td>\n",
       "      <td>167</td>\n",
       "      <td>{'n_neighbors': 167}</td>\n",
       "      <td>0.914023</td>\n",
       "      <td>0.924040</td>\n",
       "      <td>0.895659</td>\n",
       "      <td>0.917293</td>\n",
       "      <td>0.913952</td>\n",
       "      <td>0.912994</td>\n",
       "      <td>0.009412</td>\n",
       "      <td>16</td>\n",
       "    </tr>\n",
       "    <tr>\n",
       "      <th>11</th>\n",
       "      <td>0.005727</td>\n",
       "      <td>0.005819</td>\n",
       "      <td>0.040676</td>\n",
       "      <td>0.008378</td>\n",
       "      <td>22</td>\n",
       "      <td>{'n_neighbors': 22}</td>\n",
       "      <td>0.912354</td>\n",
       "      <td>0.918197</td>\n",
       "      <td>0.906511</td>\n",
       "      <td>0.921470</td>\n",
       "      <td>0.919799</td>\n",
       "      <td>0.915666</td>\n",
       "      <td>0.005513</td>\n",
       "      <td>11</td>\n",
       "    </tr>\n",
       "    <tr>\n",
       "      <th>12</th>\n",
       "      <td>0.013698</td>\n",
       "      <td>0.003851</td>\n",
       "      <td>0.070957</td>\n",
       "      <td>0.014324</td>\n",
       "      <td>71</td>\n",
       "      <td>{'n_neighbors': 71}</td>\n",
       "      <td>0.918197</td>\n",
       "      <td>0.922371</td>\n",
       "      <td>0.901503</td>\n",
       "      <td>0.919799</td>\n",
       "      <td>0.919799</td>\n",
       "      <td>0.916334</td>\n",
       "      <td>0.007535</td>\n",
       "      <td>7</td>\n",
       "    </tr>\n",
       "    <tr>\n",
       "      <th>13</th>\n",
       "      <td>0.006456</td>\n",
       "      <td>0.007494</td>\n",
       "      <td>0.063635</td>\n",
       "      <td>0.010038</td>\n",
       "      <td>74</td>\n",
       "      <td>{'n_neighbors': 74}</td>\n",
       "      <td>0.919032</td>\n",
       "      <td>0.925710</td>\n",
       "      <td>0.901503</td>\n",
       "      <td>0.918964</td>\n",
       "      <td>0.920635</td>\n",
       "      <td>0.917169</td>\n",
       "      <td>0.008211</td>\n",
       "      <td>3</td>\n",
       "    </tr>\n",
       "    <tr>\n",
       "      <th>14</th>\n",
       "      <td>0.008849</td>\n",
       "      <td>0.006028</td>\n",
       "      <td>0.052580</td>\n",
       "      <td>0.013504</td>\n",
       "      <td>64</td>\n",
       "      <td>{'n_neighbors': 64}</td>\n",
       "      <td>0.918197</td>\n",
       "      <td>0.924875</td>\n",
       "      <td>0.902337</td>\n",
       "      <td>0.920635</td>\n",
       "      <td>0.918964</td>\n",
       "      <td>0.917002</td>\n",
       "      <td>0.007688</td>\n",
       "      <td>4</td>\n",
       "    </tr>\n",
       "    <tr>\n",
       "      <th>15</th>\n",
       "      <td>0.006251</td>\n",
       "      <td>0.007656</td>\n",
       "      <td>0.062494</td>\n",
       "      <td>0.000002</td>\n",
       "      <td>190</td>\n",
       "      <td>{'n_neighbors': 190}</td>\n",
       "      <td>0.912354</td>\n",
       "      <td>0.919032</td>\n",
       "      <td>0.893155</td>\n",
       "      <td>0.910610</td>\n",
       "      <td>0.913952</td>\n",
       "      <td>0.909820</td>\n",
       "      <td>0.008794</td>\n",
       "      <td>20</td>\n",
       "    </tr>\n",
       "    <tr>\n",
       "      <th>16</th>\n",
       "      <td>0.005322</td>\n",
       "      <td>0.005716</td>\n",
       "      <td>0.032210</td>\n",
       "      <td>0.001455</td>\n",
       "      <td>18</td>\n",
       "      <td>{'n_neighbors': 18}</td>\n",
       "      <td>0.910684</td>\n",
       "      <td>0.917362</td>\n",
       "      <td>0.905676</td>\n",
       "      <td>0.921470</td>\n",
       "      <td>0.919799</td>\n",
       "      <td>0.914999</td>\n",
       "      <td>0.005934</td>\n",
       "      <td>12</td>\n",
       "    </tr>\n",
       "    <tr>\n",
       "      <th>17</th>\n",
       "      <td>0.003125</td>\n",
       "      <td>0.006251</td>\n",
       "      <td>0.049995</td>\n",
       "      <td>0.006249</td>\n",
       "      <td>102</td>\n",
       "      <td>{'n_neighbors': 102}</td>\n",
       "      <td>0.917362</td>\n",
       "      <td>0.926544</td>\n",
       "      <td>0.898998</td>\n",
       "      <td>0.918964</td>\n",
       "      <td>0.918129</td>\n",
       "      <td>0.916000</td>\n",
       "      <td>0.009115</td>\n",
       "      <td>9</td>\n",
       "    </tr>\n",
       "    <tr>\n",
       "      <th>18</th>\n",
       "      <td>0.007450</td>\n",
       "      <td>0.007026</td>\n",
       "      <td>0.046174</td>\n",
       "      <td>0.004183</td>\n",
       "      <td>95</td>\n",
       "      <td>{'n_neighbors': 95}</td>\n",
       "      <td>0.916528</td>\n",
       "      <td>0.925710</td>\n",
       "      <td>0.900668</td>\n",
       "      <td>0.919799</td>\n",
       "      <td>0.918129</td>\n",
       "      <td>0.916167</td>\n",
       "      <td>0.008348</td>\n",
       "      <td>8</td>\n",
       "    </tr>\n",
       "    <tr>\n",
       "      <th>19</th>\n",
       "      <td>0.006250</td>\n",
       "      <td>0.007655</td>\n",
       "      <td>0.065680</td>\n",
       "      <td>0.006372</td>\n",
       "      <td>182</td>\n",
       "      <td>{'n_neighbors': 182}</td>\n",
       "      <td>0.913189</td>\n",
       "      <td>0.919866</td>\n",
       "      <td>0.893155</td>\n",
       "      <td>0.912281</td>\n",
       "      <td>0.914787</td>\n",
       "      <td>0.910656</td>\n",
       "      <td>0.009135</td>\n",
       "      <td>18</td>\n",
       "    </tr>\n",
       "  </tbody>\n",
       "</table>\n",
       "</div>"
      ],
      "text/plain": [
       "    mean_fit_time  std_fit_time  mean_score_time  std_score_time  \\\n",
       "0        0.002397      0.002935         0.061231        0.008116   \n",
       "1        0.006250      0.007654         0.049996        0.006249   \n",
       "2        0.003125      0.006250         0.046870        0.000001   \n",
       "3        0.003124      0.006248         0.050987        0.006069   \n",
       "4        0.006250      0.007655         0.062867        0.000739   \n",
       "5        0.000000      0.000000         0.046868        0.000005   \n",
       "6        0.003125      0.006250         0.037497        0.007654   \n",
       "7        0.012499      0.006249         0.056245        0.012497   \n",
       "8        0.007249      0.007077         0.043665        0.009993   \n",
       "9        0.001996      0.002445         0.063301        0.004911   \n",
       "10       0.005869      0.000457         0.060331        0.006908   \n",
       "11       0.005727      0.005819         0.040676        0.008378   \n",
       "12       0.013698      0.003851         0.070957        0.014324   \n",
       "13       0.006456      0.007494         0.063635        0.010038   \n",
       "14       0.008849      0.006028         0.052580        0.013504   \n",
       "15       0.006251      0.007656         0.062494        0.000002   \n",
       "16       0.005322      0.005716         0.032210        0.001455   \n",
       "17       0.003125      0.006251         0.049995        0.006249   \n",
       "18       0.007450      0.007026         0.046174        0.004183   \n",
       "19       0.006250      0.007655         0.065680        0.006372   \n",
       "\n",
       "   param_n_neighbors                params  split0_test_score  \\\n",
       "0                142  {'n_neighbors': 142}           0.910684   \n",
       "1                127  {'n_neighbors': 127}           0.913189   \n",
       "2                 79   {'n_neighbors': 79}           0.918197   \n",
       "3                 94   {'n_neighbors': 94}           0.914858   \n",
       "4                192  {'n_neighbors': 192}           0.911519   \n",
       "5                 50   {'n_neighbors': 50}           0.919032   \n",
       "6                 44   {'n_neighbors': 44}           0.916528   \n",
       "7                146  {'n_neighbors': 146}           0.909850   \n",
       "8                 83   {'n_neighbors': 83}           0.919032   \n",
       "9                135  {'n_neighbors': 135}           0.910684   \n",
       "10               167  {'n_neighbors': 167}           0.914023   \n",
       "11                22   {'n_neighbors': 22}           0.912354   \n",
       "12                71   {'n_neighbors': 71}           0.918197   \n",
       "13                74   {'n_neighbors': 74}           0.919032   \n",
       "14                64   {'n_neighbors': 64}           0.918197   \n",
       "15               190  {'n_neighbors': 190}           0.912354   \n",
       "16                18   {'n_neighbors': 18}           0.910684   \n",
       "17               102  {'n_neighbors': 102}           0.917362   \n",
       "18                95   {'n_neighbors': 95}           0.916528   \n",
       "19               182  {'n_neighbors': 182}           0.913189   \n",
       "\n",
       "    split1_test_score  split2_test_score  split3_test_score  \\\n",
       "0            0.923205           0.897329           0.918129   \n",
       "1            0.924040           0.897329           0.918964   \n",
       "2            0.924040           0.900668           0.921470   \n",
       "3            0.925710           0.900668           0.919799   \n",
       "4            0.918197           0.893155           0.911445   \n",
       "5            0.921536           0.904007           0.922306   \n",
       "6            0.923205           0.902337           0.924812   \n",
       "7            0.923205           0.897329           0.915622   \n",
       "8            0.924040           0.900668           0.921470   \n",
       "9            0.923205           0.897329           0.918129   \n",
       "10           0.924040           0.895659           0.917293   \n",
       "11           0.918197           0.906511           0.921470   \n",
       "12           0.922371           0.901503           0.919799   \n",
       "13           0.925710           0.901503           0.918964   \n",
       "14           0.924875           0.902337           0.920635   \n",
       "15           0.919032           0.893155           0.910610   \n",
       "16           0.917362           0.905676           0.921470   \n",
       "17           0.926544           0.898998           0.918964   \n",
       "18           0.925710           0.900668           0.919799   \n",
       "19           0.919866           0.893155           0.912281   \n",
       "\n",
       "    split4_test_score  mean_test_score  std_test_score  rank_test_score  \n",
       "0            0.918129         0.913495        0.009016               14  \n",
       "1            0.918129         0.914330        0.009171               13  \n",
       "2            0.918964         0.916668        0.008259                5  \n",
       "3            0.918129         0.915833        0.008360               10  \n",
       "4            0.914787         0.909821        0.008696               19  \n",
       "5            0.920635         0.917503        0.006836                2  \n",
       "6            0.920635         0.917503        0.008083                1  \n",
       "7            0.917293         0.912660        0.008768               17  \n",
       "8            0.918129         0.916668        0.008260                6  \n",
       "9            0.917293         0.913328        0.008936               15  \n",
       "10           0.913952         0.912994        0.009412               16  \n",
       "11           0.919799         0.915666        0.005513               11  \n",
       "12           0.919799         0.916334        0.007535                7  \n",
       "13           0.920635         0.917169        0.008211                3  \n",
       "14           0.918964         0.917002        0.007688                4  \n",
       "15           0.913952         0.909820        0.008794               20  \n",
       "16           0.919799         0.914999        0.005934               12  \n",
       "17           0.918129         0.916000        0.009115                9  \n",
       "18           0.918129         0.916167        0.008348                8  \n",
       "19           0.914787         0.910656        0.009135               18  "
      ]
     },
     "execution_count": 102,
     "metadata": {},
     "output_type": "execute_result"
    }
   ],
   "source": [
    "results"
   ]
  },
  {
   "cell_type": "code",
   "execution_count": 103,
   "id": "7fbff39b",
   "metadata": {},
   "outputs": [
    {
     "data": {
      "text/plain": [
       "{'n_neighbors': 44}"
      ]
     },
     "execution_count": 103,
     "metadata": {},
     "output_type": "execute_result"
    }
   ],
   "source": [
    "rs2.best_params_"
   ]
  },
  {
   "cell_type": "code",
   "execution_count": 104,
   "id": "c2737ef3",
   "metadata": {},
   "outputs": [
    {
     "data": {
      "text/plain": [
       "KNeighborsClassifier(n_neighbors=44)"
      ]
     },
     "execution_count": 104,
     "metadata": {},
     "output_type": "execute_result"
    }
   ],
   "source": [
    "rs2.best_estimator_"
   ]
  },
  {
   "cell_type": "code",
   "execution_count": 105,
   "id": "ffab51c4",
   "metadata": {},
   "outputs": [],
   "source": [
    "knn4 = rs2.best_estimator_"
   ]
  },
  {
   "cell_type": "code",
   "execution_count": 106,
   "id": "c32057f3",
   "metadata": {},
   "outputs": [
    {
     "data": {
      "text/plain": [
       "0.9162446435527853"
      ]
     },
     "execution_count": 106,
     "metadata": {},
     "output_type": "execute_result"
    }
   ],
   "source": [
    "knn4.score(xtest, ytest)"
   ]
  },
  {
   "cell_type": "code",
   "execution_count": null,
   "id": "11d75db8",
   "metadata": {},
   "outputs": [],
   "source": []
  },
  {
   "cell_type": "code",
   "execution_count": null,
   "id": "4aafbbe6",
   "metadata": {},
   "outputs": [],
   "source": []
  },
  {
   "cell_type": "code",
   "execution_count": null,
   "id": "3fb443e7",
   "metadata": {},
   "outputs": [],
   "source": []
  }
 ],
 "metadata": {
  "kernelspec": {
   "display_name": "Python 3",
   "language": "python",
   "name": "python3"
  },
  "language_info": {
   "codemirror_mode": {
    "name": "ipython",
    "version": 3
   },
   "file_extension": ".py",
   "mimetype": "text/x-python",
   "name": "python",
   "nbconvert_exporter": "python",
   "pygments_lexer": "ipython3",
   "version": "3.8.8"
  }
 },
 "nbformat": 4,
 "nbformat_minor": 5
}
